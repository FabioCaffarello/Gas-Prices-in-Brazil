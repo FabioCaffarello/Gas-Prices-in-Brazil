{
 "cells": [
  {
   "cell_type": "markdown",
   "metadata": {},
   "source": [
    "# Libraries"
   ]
  },
  {
   "cell_type": "code",
   "execution_count": 1,
   "metadata": {},
   "outputs": [],
   "source": [
    "import pandas as pd\n",
    "import os\n",
    "import quandl\n",
    "\n",
    "pd.set_option('display.max_columns', 200)"
   ]
  },
  {
   "cell_type": "markdown",
   "metadata": {},
   "source": [
    "# Quandl Connection"
   ]
  },
  {
   "cell_type": "code",
   "execution_count": 2,
   "metadata": {},
   "outputs": [],
   "source": [
    "quandl_api_key = os.environ.get('QUANDL_API_KEY')\n",
    "quandl.ApiConfig.api_key = quandl_api_key"
   ]
  },
  {
   "cell_type": "markdown",
   "metadata": {},
   "source": [
    "### Oil Price"
   ]
  },
  {
   "cell_type": "code",
   "execution_count": 3,
   "metadata": {},
   "outputs": [],
   "source": [
    "wti_crude = quandl.get('EIA/PET_RWTC_D' , start_date='2004-05-03', end_date='2019-06-23')\n",
    "wti_crude.rename(columns={'Value': 'Oil'}, inplace=True)"
   ]
  },
  {
   "cell_type": "markdown",
   "metadata": {},
   "source": [
    "### Selic"
   ]
  },
  {
   "cell_type": "code",
   "execution_count": 4,
   "metadata": {},
   "outputs": [],
   "source": [
    "selic = quandl.get('BCB/432' , start_date='2004-05-03', end_date='2019-06-23')\n",
    "selic.rename(columns={'Value': 'Selic'}, inplace=True)"
   ]
  },
  {
   "cell_type": "markdown",
   "metadata": {},
   "source": [
    "### Dollar"
   ]
  },
  {
   "cell_type": "code",
   "execution_count": 5,
   "metadata": {},
   "outputs": [],
   "source": [
    "dollar = quandl.get('BCB/10813' , start_date='2004-05-03', end_date='2019-06-23')\n",
    "dollar.rename(columns={'Value': 'Dollar'}, inplace=True)"
   ]
  },
  {
   "cell_type": "markdown",
   "metadata": {},
   "source": [
    "### PIB BR"
   ]
  },
  {
   "cell_type": "code",
   "execution_count": 6,
   "metadata": {},
   "outputs": [],
   "source": [
    "pib_BR = quandl.get('ODA/BRA_NGDPD' , start_date='2004-05-03', end_date='2019-06-23')\n",
    "pib_BR.rename(columns={'Value': 'PIB_BR'}, inplace=True)"
   ]
  },
  {
   "cell_type": "markdown",
   "metadata": {},
   "source": [
    "### IPCA"
   ]
  },
  {
   "cell_type": "code",
   "execution_count": 7,
   "metadata": {},
   "outputs": [],
   "source": [
    "ipca = quandl.get('BCB/13522' , start_date='2004-05-03', end_date='2019-06-23')\n",
    "ipca.rename(columns={'Value': 'IPCA'}, inplace=True)"
   ]
  },
  {
   "cell_type": "markdown",
   "metadata": {},
   "source": [
    "### GOLD BR"
   ]
  },
  {
   "cell_type": "code",
   "execution_count": 8,
   "metadata": {},
   "outputs": [],
   "source": [
    "gold = quandl.get('BCB/4' , start_date='2004-05-03', end_date='2019-06-23')\n",
    "gold.rename(columns={'Value': 'Gold'}, inplace=True)"
   ]
  },
  {
   "cell_type": "markdown",
   "metadata": {},
   "source": [
    "### CDI"
   ]
  },
  {
   "cell_type": "code",
   "execution_count": 9,
   "metadata": {},
   "outputs": [],
   "source": [
    "cdi = quandl.get('BCB/4392' , start_date='2004-05-03', end_date='2019-06-23')\n",
    "cdi.rename(columns={'Value': 'CDI'}, inplace=True)"
   ]
  },
  {
   "cell_type": "markdown",
   "metadata": {},
   "source": [
    "# Join all the economic data into one DataFrame"
   ]
  },
  {
   "cell_type": "code",
   "execution_count": 10,
   "metadata": {},
   "outputs": [],
   "source": [
    "economic_data = pd.concat([wti_crude, selic, dollar, pib_BR, ipca, gold, cdi], axis=1)"
   ]
  },
  {
   "cell_type": "code",
   "execution_count": 11,
   "metadata": {},
   "outputs": [
    {
     "data": {
      "text/html": [
       "<div>\n",
       "<style scoped>\n",
       "    .dataframe tbody tr th:only-of-type {\n",
       "        vertical-align: middle;\n",
       "    }\n",
       "\n",
       "    .dataframe tbody tr th {\n",
       "        vertical-align: top;\n",
       "    }\n",
       "\n",
       "    .dataframe thead th {\n",
       "        text-align: right;\n",
       "    }\n",
       "</style>\n",
       "<table border=\"1\" class=\"dataframe\">\n",
       "  <thead>\n",
       "    <tr style=\"text-align: right;\">\n",
       "      <th></th>\n",
       "      <th>Oil</th>\n",
       "      <th>Selic</th>\n",
       "      <th>Dollar</th>\n",
       "      <th>PIB_BR</th>\n",
       "      <th>IPCA</th>\n",
       "      <th>Gold</th>\n",
       "      <th>CDI</th>\n",
       "    </tr>\n",
       "    <tr>\n",
       "      <th>Date</th>\n",
       "      <th></th>\n",
       "      <th></th>\n",
       "      <th></th>\n",
       "      <th></th>\n",
       "      <th></th>\n",
       "      <th></th>\n",
       "      <th></th>\n",
       "    </tr>\n",
       "  </thead>\n",
       "  <tbody>\n",
       "    <tr>\n",
       "      <th>2004-05-03</th>\n",
       "      <td>38.26</td>\n",
       "      <td>16.0</td>\n",
       "      <td>2.9561</td>\n",
       "      <td>NaN</td>\n",
       "      <td>NaN</td>\n",
       "      <td>36.65</td>\n",
       "      <td>NaN</td>\n",
       "    </tr>\n",
       "    <tr>\n",
       "      <th>2004-05-04</th>\n",
       "      <td>38.86</td>\n",
       "      <td>16.0</td>\n",
       "      <td>2.9688</td>\n",
       "      <td>NaN</td>\n",
       "      <td>NaN</td>\n",
       "      <td>36.90</td>\n",
       "      <td>NaN</td>\n",
       "    </tr>\n",
       "    <tr>\n",
       "      <th>2004-05-05</th>\n",
       "      <td>39.69</td>\n",
       "      <td>16.0</td>\n",
       "      <td>2.9608</td>\n",
       "      <td>NaN</td>\n",
       "      <td>NaN</td>\n",
       "      <td>36.80</td>\n",
       "      <td>NaN</td>\n",
       "    </tr>\n",
       "    <tr>\n",
       "      <th>2004-05-06</th>\n",
       "      <td>39.41</td>\n",
       "      <td>16.0</td>\n",
       "      <td>2.9891</td>\n",
       "      <td>NaN</td>\n",
       "      <td>NaN</td>\n",
       "      <td>36.70</td>\n",
       "      <td>NaN</td>\n",
       "    </tr>\n",
       "    <tr>\n",
       "      <th>2004-05-07</th>\n",
       "      <td>39.98</td>\n",
       "      <td>16.0</td>\n",
       "      <td>3.0496</td>\n",
       "      <td>NaN</td>\n",
       "      <td>NaN</td>\n",
       "      <td>37.20</td>\n",
       "      <td>NaN</td>\n",
       "    </tr>\n",
       "    <tr>\n",
       "      <th>2004-05-08</th>\n",
       "      <td>NaN</td>\n",
       "      <td>16.0</td>\n",
       "      <td>NaN</td>\n",
       "      <td>NaN</td>\n",
       "      <td>NaN</td>\n",
       "      <td>NaN</td>\n",
       "      <td>NaN</td>\n",
       "    </tr>\n",
       "    <tr>\n",
       "      <th>2004-05-09</th>\n",
       "      <td>NaN</td>\n",
       "      <td>16.0</td>\n",
       "      <td>NaN</td>\n",
       "      <td>NaN</td>\n",
       "      <td>NaN</td>\n",
       "      <td>NaN</td>\n",
       "      <td>NaN</td>\n",
       "    </tr>\n",
       "    <tr>\n",
       "      <th>2004-05-10</th>\n",
       "      <td>38.90</td>\n",
       "      <td>16.0</td>\n",
       "      <td>3.1241</td>\n",
       "      <td>NaN</td>\n",
       "      <td>NaN</td>\n",
       "      <td>38.00</td>\n",
       "      <td>NaN</td>\n",
       "    </tr>\n",
       "    <tr>\n",
       "      <th>2004-05-11</th>\n",
       "      <td>40.30</td>\n",
       "      <td>16.0</td>\n",
       "      <td>3.1043</td>\n",
       "      <td>NaN</td>\n",
       "      <td>NaN</td>\n",
       "      <td>37.00</td>\n",
       "      <td>NaN</td>\n",
       "    </tr>\n",
       "    <tr>\n",
       "      <th>2004-05-12</th>\n",
       "      <td>40.30</td>\n",
       "      <td>16.0</td>\n",
       "      <td>3.1203</td>\n",
       "      <td>NaN</td>\n",
       "      <td>NaN</td>\n",
       "      <td>37.70</td>\n",
       "      <td>NaN</td>\n",
       "    </tr>\n",
       "  </tbody>\n",
       "</table>\n",
       "</div>"
      ],
      "text/plain": [
       "              Oil  Selic  Dollar  PIB_BR  IPCA   Gold  CDI\n",
       "Date                                                      \n",
       "2004-05-03  38.26   16.0  2.9561     NaN   NaN  36.65  NaN\n",
       "2004-05-04  38.86   16.0  2.9688     NaN   NaN  36.90  NaN\n",
       "2004-05-05  39.69   16.0  2.9608     NaN   NaN  36.80  NaN\n",
       "2004-05-06  39.41   16.0  2.9891     NaN   NaN  36.70  NaN\n",
       "2004-05-07  39.98   16.0  3.0496     NaN   NaN  37.20  NaN\n",
       "2004-05-08    NaN   16.0     NaN     NaN   NaN    NaN  NaN\n",
       "2004-05-09    NaN   16.0     NaN     NaN   NaN    NaN  NaN\n",
       "2004-05-10  38.90   16.0  3.1241     NaN   NaN  38.00  NaN\n",
       "2004-05-11  40.30   16.0  3.1043     NaN   NaN  37.00  NaN\n",
       "2004-05-12  40.30   16.0  3.1203     NaN   NaN  37.70  NaN"
      ]
     },
     "execution_count": 11,
     "metadata": {},
     "output_type": "execute_result"
    }
   ],
   "source": [
    "economic_data.head(10)"
   ]
  },
  {
   "cell_type": "markdown",
   "metadata": {},
   "source": [
    "# Verification of Missing Values"
   ]
  },
  {
   "cell_type": "code",
   "execution_count": 12,
   "metadata": {},
   "outputs": [
    {
     "data": {
      "text/plain": [
       "Oil       0.309042\n",
       "Selic     0.000000\n",
       "Dollar    0.312658\n",
       "PIB_BR    0.997288\n",
       "IPCA      0.967269\n",
       "Gold      0.331826\n",
       "CDI       0.967269\n",
       "dtype: float64"
      ]
     },
     "execution_count": 12,
     "metadata": {},
     "output_type": "execute_result"
    }
   ],
   "source": [
    "economic_data.isnull().mean()"
   ]
  },
  {
   "cell_type": "markdown",
   "metadata": {},
   "source": [
    "#### >>Economic indicators with a high incidence of null values will be discarded"
   ]
  },
  {
   "cell_type": "markdown",
   "metadata": {},
   "source": [
    "# Statistical Summary"
   ]
  },
  {
   "cell_type": "code",
   "execution_count": 15,
   "metadata": {},
   "outputs": [
    {
     "data": {
      "text/html": [
       "<div>\n",
       "<style scoped>\n",
       "    .dataframe tbody tr th:only-of-type {\n",
       "        vertical-align: middle;\n",
       "    }\n",
       "\n",
       "    .dataframe tbody tr th {\n",
       "        vertical-align: top;\n",
       "    }\n",
       "\n",
       "    .dataframe thead th {\n",
       "        text-align: right;\n",
       "    }\n",
       "</style>\n",
       "<table border=\"1\" class=\"dataframe\">\n",
       "  <thead>\n",
       "    <tr style=\"text-align: right;\">\n",
       "      <th></th>\n",
       "      <th>Oil</th>\n",
       "      <th>Selic</th>\n",
       "      <th>Dollar</th>\n",
       "      <th>Gold</th>\n",
       "    </tr>\n",
       "  </thead>\n",
       "  <tbody>\n",
       "    <tr>\n",
       "      <th>count</th>\n",
       "      <td>3821.000000</td>\n",
       "      <td>5530.000000</td>\n",
       "      <td>3801.000000</td>\n",
       "      <td>3695.000000</td>\n",
       "    </tr>\n",
       "    <tr>\n",
       "      <th>mean</th>\n",
       "      <td>71.350667</td>\n",
       "      <td>11.690416</td>\n",
       "      <td>2.491177</td>\n",
       "      <td>87.971137</td>\n",
       "    </tr>\n",
       "    <tr>\n",
       "      <th>std</th>\n",
       "      <td>22.384423</td>\n",
       "      <td>3.418981</td>\n",
       "      <td>0.719662</td>\n",
       "      <td>39.184392</td>\n",
       "    </tr>\n",
       "    <tr>\n",
       "      <th>min</th>\n",
       "      <td>26.190000</td>\n",
       "      <td>6.500000</td>\n",
       "      <td>1.533700</td>\n",
       "      <td>32.000000</td>\n",
       "    </tr>\n",
       "    <tr>\n",
       "      <th>25%</th>\n",
       "      <td>52.190000</td>\n",
       "      <td>8.750000</td>\n",
       "      <td>1.880600</td>\n",
       "      <td>47.900000</td>\n",
       "    </tr>\n",
       "    <tr>\n",
       "      <th>50%</th>\n",
       "      <td>67.810000</td>\n",
       "      <td>11.250000</td>\n",
       "      <td>2.248300</td>\n",
       "      <td>92.000000</td>\n",
       "    </tr>\n",
       "    <tr>\n",
       "      <th>75%</th>\n",
       "      <td>91.070000</td>\n",
       "      <td>14.000000</td>\n",
       "      <td>3.135800</td>\n",
       "      <td>121.645000</td>\n",
       "    </tr>\n",
       "    <tr>\n",
       "      <th>max</th>\n",
       "      <td>145.310000</td>\n",
       "      <td>19.750000</td>\n",
       "      <td>4.194200</td>\n",
       "      <td>170.500000</td>\n",
       "    </tr>\n",
       "  </tbody>\n",
       "</table>\n",
       "</div>"
      ],
      "text/plain": [
       "               Oil        Selic       Dollar         Gold\n",
       "count  3821.000000  5530.000000  3801.000000  3695.000000\n",
       "mean     71.350667    11.690416     2.491177    87.971137\n",
       "std      22.384423     3.418981     0.719662    39.184392\n",
       "min      26.190000     6.500000     1.533700    32.000000\n",
       "25%      52.190000     8.750000     1.880600    47.900000\n",
       "50%      67.810000    11.250000     2.248300    92.000000\n",
       "75%      91.070000    14.000000     3.135800   121.645000\n",
       "max     145.310000    19.750000     4.194200   170.500000"
      ]
     },
     "execution_count": 15,
     "metadata": {},
     "output_type": "execute_result"
    }
   ],
   "source": [
    "economic_data.describe()"
   ]
  },
  {
   "cell_type": "markdown",
   "metadata": {},
   "source": [
    "# Drop columns with high incidence of null Values"
   ]
  },
  {
   "cell_type": "code",
   "execution_count": 13,
   "metadata": {},
   "outputs": [],
   "source": [
    "economic_data.drop(['PIB_BR', 'IPCA', 'CDI'], axis=1, inplace=True)"
   ]
  },
  {
   "cell_type": "code",
   "execution_count": 14,
   "metadata": {},
   "outputs": [
    {
     "data": {
      "text/html": [
       "<div>\n",
       "<style scoped>\n",
       "    .dataframe tbody tr th:only-of-type {\n",
       "        vertical-align: middle;\n",
       "    }\n",
       "\n",
       "    .dataframe tbody tr th {\n",
       "        vertical-align: top;\n",
       "    }\n",
       "\n",
       "    .dataframe thead th {\n",
       "        text-align: right;\n",
       "    }\n",
       "</style>\n",
       "<table border=\"1\" class=\"dataframe\">\n",
       "  <thead>\n",
       "    <tr style=\"text-align: right;\">\n",
       "      <th></th>\n",
       "      <th>Oil</th>\n",
       "      <th>Selic</th>\n",
       "      <th>Dollar</th>\n",
       "      <th>Gold</th>\n",
       "    </tr>\n",
       "    <tr>\n",
       "      <th>Date</th>\n",
       "      <th></th>\n",
       "      <th></th>\n",
       "      <th></th>\n",
       "      <th></th>\n",
       "    </tr>\n",
       "  </thead>\n",
       "  <tbody>\n",
       "    <tr>\n",
       "      <th>2015-11-02</th>\n",
       "      <td>46.12</td>\n",
       "      <td>14.25</td>\n",
       "      <td>NaN</td>\n",
       "      <td>NaN</td>\n",
       "    </tr>\n",
       "    <tr>\n",
       "      <th>2012-07-08</th>\n",
       "      <td>NaN</td>\n",
       "      <td>8.50</td>\n",
       "      <td>NaN</td>\n",
       "      <td>NaN</td>\n",
       "    </tr>\n",
       "    <tr>\n",
       "      <th>2005-11-21</th>\n",
       "      <td>57.75</td>\n",
       "      <td>19.00</td>\n",
       "      <td>2.2173</td>\n",
       "      <td>34.89</td>\n",
       "    </tr>\n",
       "    <tr>\n",
       "      <th>2014-08-05</th>\n",
       "      <td>97.34</td>\n",
       "      <td>11.00</td>\n",
       "      <td>2.2750</td>\n",
       "      <td>NaN</td>\n",
       "    </tr>\n",
       "    <tr>\n",
       "      <th>2013-09-14</th>\n",
       "      <td>NaN</td>\n",
       "      <td>9.00</td>\n",
       "      <td>NaN</td>\n",
       "      <td>NaN</td>\n",
       "    </tr>\n",
       "    <tr>\n",
       "      <th>2011-11-22</th>\n",
       "      <td>97.76</td>\n",
       "      <td>11.50</td>\n",
       "      <td>1.8062</td>\n",
       "      <td>98.50</td>\n",
       "    </tr>\n",
       "    <tr>\n",
       "      <th>2018-05-27</th>\n",
       "      <td>NaN</td>\n",
       "      <td>6.50</td>\n",
       "      <td>NaN</td>\n",
       "      <td>NaN</td>\n",
       "    </tr>\n",
       "    <tr>\n",
       "      <th>2004-09-12</th>\n",
       "      <td>NaN</td>\n",
       "      <td>16.00</td>\n",
       "      <td>NaN</td>\n",
       "      <td>NaN</td>\n",
       "    </tr>\n",
       "    <tr>\n",
       "      <th>2012-06-24</th>\n",
       "      <td>NaN</td>\n",
       "      <td>8.50</td>\n",
       "      <td>NaN</td>\n",
       "      <td>NaN</td>\n",
       "    </tr>\n",
       "    <tr>\n",
       "      <th>2006-03-24</th>\n",
       "      <td>63.90</td>\n",
       "      <td>16.50</td>\n",
       "      <td>2.1620</td>\n",
       "      <td>38.70</td>\n",
       "    </tr>\n",
       "  </tbody>\n",
       "</table>\n",
       "</div>"
      ],
      "text/plain": [
       "              Oil  Selic  Dollar   Gold\n",
       "Date                                   \n",
       "2015-11-02  46.12  14.25     NaN    NaN\n",
       "2012-07-08    NaN   8.50     NaN    NaN\n",
       "2005-11-21  57.75  19.00  2.2173  34.89\n",
       "2014-08-05  97.34  11.00  2.2750    NaN\n",
       "2013-09-14    NaN   9.00     NaN    NaN\n",
       "2011-11-22  97.76  11.50  1.8062  98.50\n",
       "2018-05-27    NaN   6.50     NaN    NaN\n",
       "2004-09-12    NaN  16.00     NaN    NaN\n",
       "2012-06-24    NaN   8.50     NaN    NaN\n",
       "2006-03-24  63.90  16.50  2.1620  38.70"
      ]
     },
     "execution_count": 14,
     "metadata": {},
     "output_type": "execute_result"
    }
   ],
   "source": [
    "economic_data.sample(10)"
   ]
  },
  {
   "cell_type": "markdown",
   "metadata": {},
   "source": [
    "# Interpolation of values to fill the missing values"
   ]
  },
  {
   "cell_type": "code",
   "execution_count": 16,
   "metadata": {},
   "outputs": [],
   "source": [
    "columns_with_null_values = economic_data.columns[economic_data.isnull().any()]\n",
    "\n",
    "for col in columns_with_null_values:\n",
    "    economic_data[col].interpolate(inplace=True)"
   ]
  },
  {
   "cell_type": "code",
   "execution_count": 17,
   "metadata": {},
   "outputs": [
    {
     "data": {
      "text/plain": [
       "Oil       0.0\n",
       "Selic     0.0\n",
       "Dollar    0.0\n",
       "Gold      0.0\n",
       "dtype: float64"
      ]
     },
     "execution_count": 17,
     "metadata": {},
     "output_type": "execute_result"
    }
   ],
   "source": [
    "economic_data.isnull().mean()"
   ]
  },
  {
   "cell_type": "markdown",
   "metadata": {},
   "source": [
    "# Checking for missing days in the selected interval"
   ]
  },
  {
   "cell_type": "code",
   "execution_count": 18,
   "metadata": {},
   "outputs": [],
   "source": [
    "economic_data['diff_Date'] = economic_data.index\n",
    "economic_data['diff_Date'] = economic_data['diff_Date'].diff().shift(-1)"
   ]
  },
  {
   "cell_type": "code",
   "execution_count": 20,
   "metadata": {},
   "outputs": [
    {
     "data": {
      "text/plain": [
       "1 days    5529\n",
       "Name: diff_Date, dtype: int64"
      ]
     },
     "execution_count": 20,
     "metadata": {},
     "output_type": "execute_result"
    }
   ],
   "source": [
    "economic_data['diff_Date'].value_counts()"
   ]
  },
  {
   "cell_type": "code",
   "execution_count": 31,
   "metadata": {},
   "outputs": [],
   "source": [
    "economic_data.drop('diff_Date', axis=1, inplace=True)"
   ]
  },
  {
   "cell_type": "markdown",
   "metadata": {},
   "source": [
    "# Resample DataFrame to Week"
   ]
  },
  {
   "cell_type": "code",
   "execution_count": 32,
   "metadata": {},
   "outputs": [],
   "source": [
    "col_names = economic_data.columns"
   ]
  },
  {
   "cell_type": "code",
   "execution_count": 34,
   "metadata": {},
   "outputs": [],
   "source": [
    "economic_data_mean = economic_data.resample('W').mean()\n",
    "economic_data_mean.columns = col_names + '_mean'"
   ]
  },
  {
   "cell_type": "code",
   "execution_count": 36,
   "metadata": {},
   "outputs": [],
   "source": [
    "economic_data_median = economic_data.resample('W').median()\n",
    "economic_data_median.columns = col_names + '_median'"
   ]
  },
  {
   "cell_type": "code",
   "execution_count": 35,
   "metadata": {},
   "outputs": [],
   "source": [
    "economic_data_std = economic_data.resample('W').std()\n",
    "economic_data_std.columns = col_names + '_std'"
   ]
  },
  {
   "cell_type": "markdown",
   "metadata": {},
   "source": [
    "# Join all the resample metrics data into one DataFrame"
   ]
  },
  {
   "cell_type": "code",
   "execution_count": 37,
   "metadata": {},
   "outputs": [],
   "source": [
    "economic_data = pd.concat([economic_data_mean, economic_data_median, economic_data_std], axis=1)"
   ]
  },
  {
   "cell_type": "code",
   "execution_count": 38,
   "metadata": {},
   "outputs": [
    {
     "data": {
      "text/html": [
       "<div>\n",
       "<style scoped>\n",
       "    .dataframe tbody tr th:only-of-type {\n",
       "        vertical-align: middle;\n",
       "    }\n",
       "\n",
       "    .dataframe tbody tr th {\n",
       "        vertical-align: top;\n",
       "    }\n",
       "\n",
       "    .dataframe thead th {\n",
       "        text-align: right;\n",
       "    }\n",
       "</style>\n",
       "<table border=\"1\" class=\"dataframe\">\n",
       "  <thead>\n",
       "    <tr style=\"text-align: right;\">\n",
       "      <th></th>\n",
       "      <th>Oil_mean</th>\n",
       "      <th>Selic_mean</th>\n",
       "      <th>Dollar_mean</th>\n",
       "      <th>Gold_mean</th>\n",
       "      <th>Oil_median</th>\n",
       "      <th>Selic_median</th>\n",
       "      <th>Dollar_median</th>\n",
       "      <th>Gold_median</th>\n",
       "      <th>Oil_std</th>\n",
       "      <th>Selic_std</th>\n",
       "      <th>Dollar_std</th>\n",
       "      <th>Gold_std</th>\n",
       "    </tr>\n",
       "    <tr>\n",
       "      <th>Date</th>\n",
       "      <th></th>\n",
       "      <th></th>\n",
       "      <th></th>\n",
       "      <th></th>\n",
       "      <th></th>\n",
       "      <th></th>\n",
       "      <th></th>\n",
       "      <th></th>\n",
       "      <th></th>\n",
       "      <th></th>\n",
       "      <th></th>\n",
       "      <th></th>\n",
       "    </tr>\n",
       "  </thead>\n",
       "  <tbody>\n",
       "    <tr>\n",
       "      <th>2004-05-09</th>\n",
       "      <td>39.297143</td>\n",
       "      <td>16.0</td>\n",
       "      <td>3.014014</td>\n",
       "      <td>37.064286</td>\n",
       "      <td>39.41</td>\n",
       "      <td>16.0</td>\n",
       "      <td>2.989100</td>\n",
       "      <td>36.90</td>\n",
       "      <td>0.578179</td>\n",
       "      <td>0.0</td>\n",
       "      <td>0.059211</td>\n",
       "      <td>0.414151</td>\n",
       "    </tr>\n",
       "    <tr>\n",
       "      <th>2004-05-16</th>\n",
       "      <td>40.687143</td>\n",
       "      <td>16.0</td>\n",
       "      <td>3.113114</td>\n",
       "      <td>37.492857</td>\n",
       "      <td>40.94</td>\n",
       "      <td>16.0</td>\n",
       "      <td>3.113267</td>\n",
       "      <td>37.45</td>\n",
       "      <td>0.943112</td>\n",
       "      <td>0.0</td>\n",
       "      <td>0.011204</td>\n",
       "      <td>0.332757</td>\n",
       "    </tr>\n",
       "    <tr>\n",
       "      <th>2004-05-23</th>\n",
       "      <td>40.867143</td>\n",
       "      <td>16.0</td>\n",
       "      <td>3.158643</td>\n",
       "      <td>38.290000</td>\n",
       "      <td>40.92</td>\n",
       "      <td>16.0</td>\n",
       "      <td>3.180500</td>\n",
       "      <td>38.30</td>\n",
       "      <td>0.664057</td>\n",
       "      <td>0.0</td>\n",
       "      <td>0.042535</td>\n",
       "      <td>0.569077</td>\n",
       "    </tr>\n",
       "    <tr>\n",
       "      <th>2004-05-30</th>\n",
       "      <td>40.693214</td>\n",
       "      <td>16.0</td>\n",
       "      <td>3.137500</td>\n",
       "      <td>38.778571</td>\n",
       "      <td>40.60</td>\n",
       "      <td>16.0</td>\n",
       "      <td>3.151600</td>\n",
       "      <td>38.70</td>\n",
       "      <td>0.939225</td>\n",
       "      <td>0.0</td>\n",
       "      <td>0.031106</td>\n",
       "      <td>0.305007</td>\n",
       "    </tr>\n",
       "    <tr>\n",
       "      <th>2004-06-06</th>\n",
       "      <td>39.843214</td>\n",
       "      <td>16.0</td>\n",
       "      <td>3.133371</td>\n",
       "      <td>38.828571</td>\n",
       "      <td>39.29</td>\n",
       "      <td>16.0</td>\n",
       "      <td>3.129400</td>\n",
       "      <td>38.70</td>\n",
       "      <td>1.591660</td>\n",
       "      <td>0.0</td>\n",
       "      <td>0.012524</td>\n",
       "      <td>0.541322</td>\n",
       "    </tr>\n",
       "  </tbody>\n",
       "</table>\n",
       "</div>"
      ],
      "text/plain": [
       "             Oil_mean  Selic_mean  Dollar_mean  Gold_mean  Oil_median  \\\n",
       "Date                                                                    \n",
       "2004-05-09  39.297143        16.0     3.014014  37.064286       39.41   \n",
       "2004-05-16  40.687143        16.0     3.113114  37.492857       40.94   \n",
       "2004-05-23  40.867143        16.0     3.158643  38.290000       40.92   \n",
       "2004-05-30  40.693214        16.0     3.137500  38.778571       40.60   \n",
       "2004-06-06  39.843214        16.0     3.133371  38.828571       39.29   \n",
       "\n",
       "            Selic_median  Dollar_median  Gold_median   Oil_std  Selic_std  \\\n",
       "Date                                                                        \n",
       "2004-05-09          16.0       2.989100        36.90  0.578179        0.0   \n",
       "2004-05-16          16.0       3.113267        37.45  0.943112        0.0   \n",
       "2004-05-23          16.0       3.180500        38.30  0.664057        0.0   \n",
       "2004-05-30          16.0       3.151600        38.70  0.939225        0.0   \n",
       "2004-06-06          16.0       3.129400        38.70  1.591660        0.0   \n",
       "\n",
       "            Dollar_std  Gold_std  \n",
       "Date                              \n",
       "2004-05-09    0.059211  0.414151  \n",
       "2004-05-16    0.011204  0.332757  \n",
       "2004-05-23    0.042535  0.569077  \n",
       "2004-05-30    0.031106  0.305007  \n",
       "2004-06-06    0.012524  0.541322  "
      ]
     },
     "execution_count": 38,
     "metadata": {},
     "output_type": "execute_result"
    }
   ],
   "source": [
    "economic_data.head()"
   ]
  },
  {
   "cell_type": "code",
   "execution_count": 42,
   "metadata": {},
   "outputs": [],
   "source": [
    "economic_data.to_csv('../01-Data/economic_data.csv', index=True)"
   ]
  }
 ],
 "metadata": {
  "kernelspec": {
   "display_name": "Python 3",
   "language": "python",
   "name": "python3"
  },
  "language_info": {
   "codemirror_mode": {
    "name": "ipython",
    "version": 3
   },
   "file_extension": ".py",
   "mimetype": "text/x-python",
   "name": "python",
   "nbconvert_exporter": "python",
   "pygments_lexer": "ipython3",
   "version": "3.8.3"
  }
 },
 "nbformat": 4,
 "nbformat_minor": 4
}
