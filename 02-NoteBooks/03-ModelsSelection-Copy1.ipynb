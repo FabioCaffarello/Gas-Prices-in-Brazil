{
 "cells": [
  {
   "cell_type": "markdown",
   "metadata": {},
   "source": [
    "# Libraries"
   ]
  },
  {
   "cell_type": "code",
   "execution_count": 1,
   "metadata": {},
   "outputs": [],
   "source": [
    "import pandas as pd\n",
    "import numpy as np\n",
    "import matplotlib.pyplot as plt\n",
    "import warnings\n",
    "\n",
    "warnings.filterwarnings(\"ignore\")\n",
    "pd.set_option('display.max_columns', 200)\n",
    "\n",
    "from sklearn.metrics import mean_squared_log_error\n",
    "\n",
    "from sklearn.ensemble import RandomForestRegressor\n",
    "from lightgbm import LGBMRegressor\n",
    "from sklearn.linear_model import LinearRegression\n",
    "from sklearn.linear_model import Lasso\n",
    "from sklearn.linear_model import Ridge\n",
    "from sklearn.linear_model import BayesianRidge"
   ]
  },
  {
   "cell_type": "markdown",
   "metadata": {},
   "source": [
    "# Read Data"
   ]
  },
  {
   "cell_type": "code",
   "execution_count": 2,
   "metadata": {},
   "outputs": [],
   "source": [
    "economic_data = pd.read_csv('../01-Data/economic_data.csv',  parse_dates=['Date'])"
   ]
  },
  {
   "cell_type": "code",
   "execution_count": 3,
   "metadata": {},
   "outputs": [
    {
     "data": {
      "text/html": [
       "<div>\n",
       "<style scoped>\n",
       "    .dataframe tbody tr th:only-of-type {\n",
       "        vertical-align: middle;\n",
       "    }\n",
       "\n",
       "    .dataframe tbody tr th {\n",
       "        vertical-align: top;\n",
       "    }\n",
       "\n",
       "    .dataframe thead th {\n",
       "        text-align: right;\n",
       "    }\n",
       "</style>\n",
       "<table border=\"1\" class=\"dataframe\">\n",
       "  <thead>\n",
       "    <tr style=\"text-align: right;\">\n",
       "      <th></th>\n",
       "      <th>Date</th>\n",
       "      <th>Oil_mean</th>\n",
       "      <th>Selic_mean</th>\n",
       "      <th>Dollar_mean</th>\n",
       "      <th>Gold_mean</th>\n",
       "      <th>Oil_median</th>\n",
       "      <th>Selic_median</th>\n",
       "      <th>Dollar_median</th>\n",
       "      <th>Gold_median</th>\n",
       "      <th>Oil_std</th>\n",
       "      <th>Selic_std</th>\n",
       "      <th>Dollar_std</th>\n",
       "      <th>Gold_std</th>\n",
       "    </tr>\n",
       "  </thead>\n",
       "  <tbody>\n",
       "    <tr>\n",
       "      <th>0</th>\n",
       "      <td>2004-05-09</td>\n",
       "      <td>39.297143</td>\n",
       "      <td>16.0</td>\n",
       "      <td>3.014014</td>\n",
       "      <td>37.064286</td>\n",
       "      <td>39.41</td>\n",
       "      <td>16.0</td>\n",
       "      <td>2.989100</td>\n",
       "      <td>36.90</td>\n",
       "      <td>0.578179</td>\n",
       "      <td>0.0</td>\n",
       "      <td>0.059211</td>\n",
       "      <td>0.414151</td>\n",
       "    </tr>\n",
       "    <tr>\n",
       "      <th>1</th>\n",
       "      <td>2004-05-16</td>\n",
       "      <td>40.687143</td>\n",
       "      <td>16.0</td>\n",
       "      <td>3.113114</td>\n",
       "      <td>37.492857</td>\n",
       "      <td>40.94</td>\n",
       "      <td>16.0</td>\n",
       "      <td>3.113267</td>\n",
       "      <td>37.45</td>\n",
       "      <td>0.943112</td>\n",
       "      <td>0.0</td>\n",
       "      <td>0.011204</td>\n",
       "      <td>0.332757</td>\n",
       "    </tr>\n",
       "    <tr>\n",
       "      <th>2</th>\n",
       "      <td>2004-05-23</td>\n",
       "      <td>40.867143</td>\n",
       "      <td>16.0</td>\n",
       "      <td>3.158643</td>\n",
       "      <td>38.290000</td>\n",
       "      <td>40.92</td>\n",
       "      <td>16.0</td>\n",
       "      <td>3.180500</td>\n",
       "      <td>38.30</td>\n",
       "      <td>0.664057</td>\n",
       "      <td>0.0</td>\n",
       "      <td>0.042535</td>\n",
       "      <td>0.569077</td>\n",
       "    </tr>\n",
       "    <tr>\n",
       "      <th>3</th>\n",
       "      <td>2004-05-30</td>\n",
       "      <td>40.693214</td>\n",
       "      <td>16.0</td>\n",
       "      <td>3.137500</td>\n",
       "      <td>38.778571</td>\n",
       "      <td>40.60</td>\n",
       "      <td>16.0</td>\n",
       "      <td>3.151600</td>\n",
       "      <td>38.70</td>\n",
       "      <td>0.939225</td>\n",
       "      <td>0.0</td>\n",
       "      <td>0.031106</td>\n",
       "      <td>0.305007</td>\n",
       "    </tr>\n",
       "    <tr>\n",
       "      <th>4</th>\n",
       "      <td>2004-06-06</td>\n",
       "      <td>39.843214</td>\n",
       "      <td>16.0</td>\n",
       "      <td>3.133371</td>\n",
       "      <td>38.828571</td>\n",
       "      <td>39.29</td>\n",
       "      <td>16.0</td>\n",
       "      <td>3.129400</td>\n",
       "      <td>38.70</td>\n",
       "      <td>1.591660</td>\n",
       "      <td>0.0</td>\n",
       "      <td>0.012524</td>\n",
       "      <td>0.541322</td>\n",
       "    </tr>\n",
       "  </tbody>\n",
       "</table>\n",
       "</div>"
      ],
      "text/plain": [
       "        Date   Oil_mean  Selic_mean  Dollar_mean  Gold_mean  Oil_median  \\\n",
       "0 2004-05-09  39.297143        16.0     3.014014  37.064286       39.41   \n",
       "1 2004-05-16  40.687143        16.0     3.113114  37.492857       40.94   \n",
       "2 2004-05-23  40.867143        16.0     3.158643  38.290000       40.92   \n",
       "3 2004-05-30  40.693214        16.0     3.137500  38.778571       40.60   \n",
       "4 2004-06-06  39.843214        16.0     3.133371  38.828571       39.29   \n",
       "\n",
       "   Selic_median  Dollar_median  Gold_median   Oil_std  Selic_std  Dollar_std  \\\n",
       "0          16.0       2.989100        36.90  0.578179        0.0    0.059211   \n",
       "1          16.0       3.113267        37.45  0.943112        0.0    0.011204   \n",
       "2          16.0       3.180500        38.30  0.664057        0.0    0.042535   \n",
       "3          16.0       3.151600        38.70  0.939225        0.0    0.031106   \n",
       "4          16.0       3.129400        38.70  1.591660        0.0    0.012524   \n",
       "\n",
       "   Gold_std  \n",
       "0  0.414151  \n",
       "1  0.332757  \n",
       "2  0.569077  \n",
       "3  0.305007  \n",
       "4  0.541322  "
      ]
     },
     "execution_count": 3,
     "metadata": {},
     "output_type": "execute_result"
    }
   ],
   "source": [
    "economic_data.head()"
   ]
  },
  {
   "cell_type": "code",
   "execution_count": 4,
   "metadata": {},
   "outputs": [],
   "source": [
    "data = pd.read_csv('../01-Data/2004-2019.tsv', sep='\\t', parse_dates=['DATA INICIAL', 'DATA FINAL'])"
   ]
  },
  {
   "cell_type": "code",
   "execution_count": 5,
   "metadata": {},
   "outputs": [
    {
     "data": {
      "text/html": [
       "<div>\n",
       "<style scoped>\n",
       "    .dataframe tbody tr th:only-of-type {\n",
       "        vertical-align: middle;\n",
       "    }\n",
       "\n",
       "    .dataframe tbody tr th {\n",
       "        vertical-align: top;\n",
       "    }\n",
       "\n",
       "    .dataframe thead th {\n",
       "        text-align: right;\n",
       "    }\n",
       "</style>\n",
       "<table border=\"1\" class=\"dataframe\">\n",
       "  <thead>\n",
       "    <tr style=\"text-align: right;\">\n",
       "      <th></th>\n",
       "      <th>Unnamed: 0</th>\n",
       "      <th>DATA INICIAL</th>\n",
       "      <th>DATA FINAL</th>\n",
       "      <th>REGIÃO</th>\n",
       "      <th>ESTADO</th>\n",
       "      <th>PRODUTO</th>\n",
       "      <th>NÚMERO DE POSTOS PESQUISADOS</th>\n",
       "      <th>UNIDADE DE MEDIDA</th>\n",
       "      <th>PREÇO MÉDIO REVENDA</th>\n",
       "      <th>DESVIO PADRÃO REVENDA</th>\n",
       "      <th>PREÇO MÍNIMO REVENDA</th>\n",
       "      <th>PREÇO MÁXIMO REVENDA</th>\n",
       "      <th>MARGEM MÉDIA REVENDA</th>\n",
       "      <th>COEF DE VARIAÇÃO REVENDA</th>\n",
       "      <th>PREÇO MÉDIO DISTRIBUIÇÃO</th>\n",
       "      <th>DESVIO PADRÃO DISTRIBUIÇÃO</th>\n",
       "      <th>PREÇO MÍNIMO DISTRIBUIÇÃO</th>\n",
       "      <th>PREÇO MÁXIMO DISTRIBUIÇÃO</th>\n",
       "      <th>COEF DE VARIAÇÃO DISTRIBUIÇÃO</th>\n",
       "      <th>MÊS</th>\n",
       "      <th>ANO</th>\n",
       "    </tr>\n",
       "  </thead>\n",
       "  <tbody>\n",
       "    <tr>\n",
       "      <th>0</th>\n",
       "      <td>0</td>\n",
       "      <td>2004-05-09</td>\n",
       "      <td>2004-05-15</td>\n",
       "      <td>CENTRO OESTE</td>\n",
       "      <td>DISTRITO FEDERAL</td>\n",
       "      <td>ETANOL HIDRATADO</td>\n",
       "      <td>127</td>\n",
       "      <td>R$/l</td>\n",
       "      <td>1.288</td>\n",
       "      <td>0.016</td>\n",
       "      <td>1.19</td>\n",
       "      <td>1.350</td>\n",
       "      <td>0.463</td>\n",
       "      <td>0.012</td>\n",
       "      <td>0.825</td>\n",
       "      <td>0.11</td>\n",
       "      <td>0.4201</td>\n",
       "      <td>0.9666</td>\n",
       "      <td>0.133</td>\n",
       "      <td>5</td>\n",
       "      <td>2004</td>\n",
       "    </tr>\n",
       "    <tr>\n",
       "      <th>1</th>\n",
       "      <td>1</td>\n",
       "      <td>2004-05-09</td>\n",
       "      <td>2004-05-15</td>\n",
       "      <td>CENTRO OESTE</td>\n",
       "      <td>GOIAS</td>\n",
       "      <td>ETANOL HIDRATADO</td>\n",
       "      <td>387</td>\n",
       "      <td>R$/l</td>\n",
       "      <td>1.162</td>\n",
       "      <td>0.114</td>\n",
       "      <td>0.89</td>\n",
       "      <td>1.449</td>\n",
       "      <td>0.399</td>\n",
       "      <td>0.098</td>\n",
       "      <td>0.763</td>\n",
       "      <td>0.088</td>\n",
       "      <td>0.5013</td>\n",
       "      <td>1.05</td>\n",
       "      <td>0.115</td>\n",
       "      <td>5</td>\n",
       "      <td>2004</td>\n",
       "    </tr>\n",
       "    <tr>\n",
       "      <th>2</th>\n",
       "      <td>2</td>\n",
       "      <td>2004-05-09</td>\n",
       "      <td>2004-05-15</td>\n",
       "      <td>CENTRO OESTE</td>\n",
       "      <td>MATO GROSSO</td>\n",
       "      <td>ETANOL HIDRATADO</td>\n",
       "      <td>192</td>\n",
       "      <td>R$/l</td>\n",
       "      <td>1.389</td>\n",
       "      <td>0.097</td>\n",
       "      <td>1.18</td>\n",
       "      <td>1.760</td>\n",
       "      <td>0.419</td>\n",
       "      <td>0.070</td>\n",
       "      <td>0.97</td>\n",
       "      <td>0.095</td>\n",
       "      <td>0.5614</td>\n",
       "      <td>1.161</td>\n",
       "      <td>0.098</td>\n",
       "      <td>5</td>\n",
       "      <td>2004</td>\n",
       "    </tr>\n",
       "    <tr>\n",
       "      <th>3</th>\n",
       "      <td>3</td>\n",
       "      <td>2004-05-09</td>\n",
       "      <td>2004-05-15</td>\n",
       "      <td>CENTRO OESTE</td>\n",
       "      <td>MATO GROSSO DO SUL</td>\n",
       "      <td>ETANOL HIDRATADO</td>\n",
       "      <td>162</td>\n",
       "      <td>R$/l</td>\n",
       "      <td>1.262</td>\n",
       "      <td>0.070</td>\n",
       "      <td>1.09</td>\n",
       "      <td>1.509</td>\n",
       "      <td>0.432</td>\n",
       "      <td>0.055</td>\n",
       "      <td>0.83</td>\n",
       "      <td>0.119</td>\n",
       "      <td>0.5991</td>\n",
       "      <td>1.22242</td>\n",
       "      <td>0.143</td>\n",
       "      <td>5</td>\n",
       "      <td>2004</td>\n",
       "    </tr>\n",
       "    <tr>\n",
       "      <th>4</th>\n",
       "      <td>4</td>\n",
       "      <td>2004-05-09</td>\n",
       "      <td>2004-05-15</td>\n",
       "      <td>NORDESTE</td>\n",
       "      <td>ALAGOAS</td>\n",
       "      <td>ETANOL HIDRATADO</td>\n",
       "      <td>103</td>\n",
       "      <td>R$/l</td>\n",
       "      <td>1.181</td>\n",
       "      <td>0.078</td>\n",
       "      <td>1.05</td>\n",
       "      <td>1.400</td>\n",
       "      <td>0.24</td>\n",
       "      <td>0.066</td>\n",
       "      <td>0.941</td>\n",
       "      <td>0.077</td>\n",
       "      <td>0.7441</td>\n",
       "      <td>1.0317</td>\n",
       "      <td>0.082</td>\n",
       "      <td>5</td>\n",
       "      <td>2004</td>\n",
       "    </tr>\n",
       "  </tbody>\n",
       "</table>\n",
       "</div>"
      ],
      "text/plain": [
       "   Unnamed: 0 DATA INICIAL DATA FINAL        REGIÃO              ESTADO  \\\n",
       "0           0   2004-05-09 2004-05-15  CENTRO OESTE    DISTRITO FEDERAL   \n",
       "1           1   2004-05-09 2004-05-15  CENTRO OESTE               GOIAS   \n",
       "2           2   2004-05-09 2004-05-15  CENTRO OESTE         MATO GROSSO   \n",
       "3           3   2004-05-09 2004-05-15  CENTRO OESTE  MATO GROSSO DO SUL   \n",
       "4           4   2004-05-09 2004-05-15      NORDESTE             ALAGOAS   \n",
       "\n",
       "            PRODUTO  NÚMERO DE POSTOS PESQUISADOS UNIDADE DE MEDIDA  \\\n",
       "0  ETANOL HIDRATADO                           127              R$/l   \n",
       "1  ETANOL HIDRATADO                           387              R$/l   \n",
       "2  ETANOL HIDRATADO                           192              R$/l   \n",
       "3  ETANOL HIDRATADO                           162              R$/l   \n",
       "4  ETANOL HIDRATADO                           103              R$/l   \n",
       "\n",
       "   PREÇO MÉDIO REVENDA  DESVIO PADRÃO REVENDA  PREÇO MÍNIMO REVENDA  \\\n",
       "0                1.288                  0.016                  1.19   \n",
       "1                1.162                  0.114                  0.89   \n",
       "2                1.389                  0.097                  1.18   \n",
       "3                1.262                  0.070                  1.09   \n",
       "4                1.181                  0.078                  1.05   \n",
       "\n",
       "   PREÇO MÁXIMO REVENDA MARGEM MÉDIA REVENDA  COEF DE VARIAÇÃO REVENDA  \\\n",
       "0                 1.350                0.463                     0.012   \n",
       "1                 1.449                0.399                     0.098   \n",
       "2                 1.760                0.419                     0.070   \n",
       "3                 1.509                0.432                     0.055   \n",
       "4                 1.400                 0.24                     0.066   \n",
       "\n",
       "  PREÇO MÉDIO DISTRIBUIÇÃO DESVIO PADRÃO DISTRIBUIÇÃO  \\\n",
       "0                    0.825                       0.11   \n",
       "1                    0.763                      0.088   \n",
       "2                     0.97                      0.095   \n",
       "3                     0.83                      0.119   \n",
       "4                    0.941                      0.077   \n",
       "\n",
       "  PREÇO MÍNIMO DISTRIBUIÇÃO PREÇO MÁXIMO DISTRIBUIÇÃO  \\\n",
       "0                    0.4201                    0.9666   \n",
       "1                    0.5013                      1.05   \n",
       "2                    0.5614                     1.161   \n",
       "3                    0.5991                   1.22242   \n",
       "4                    0.7441                    1.0317   \n",
       "\n",
       "  COEF DE VARIAÇÃO DISTRIBUIÇÃO  MÊS   ANO  \n",
       "0                         0.133    5  2004  \n",
       "1                         0.115    5  2004  \n",
       "2                         0.098    5  2004  \n",
       "3                         0.143    5  2004  \n",
       "4                         0.082    5  2004  "
      ]
     },
     "execution_count": 5,
     "metadata": {},
     "output_type": "execute_result"
    }
   ],
   "source": [
    "data.head()"
   ]
  },
  {
   "cell_type": "markdown",
   "metadata": {},
   "source": [
    "# Translate column names to English"
   ]
  },
  {
   "cell_type": "code",
   "execution_count": 6,
   "metadata": {},
   "outputs": [
    {
     "data": {
      "text/plain": [
       "Index(['Unnamed: 0', 'DATA INICIAL', 'DATA FINAL', 'REGIÃO', 'ESTADO',\n",
       "       'PRODUTO', 'NÚMERO DE POSTOS PESQUISADOS', 'UNIDADE DE MEDIDA',\n",
       "       'PREÇO MÉDIO REVENDA', 'DESVIO PADRÃO REVENDA', 'PREÇO MÍNIMO REVENDA',\n",
       "       'PREÇO MÁXIMO REVENDA', 'MARGEM MÉDIA REVENDA',\n",
       "       'COEF DE VARIAÇÃO REVENDA', 'PREÇO MÉDIO DISTRIBUIÇÃO',\n",
       "       'DESVIO PADRÃO DISTRIBUIÇÃO', 'PREÇO MÍNIMO DISTRIBUIÇÃO',\n",
       "       'PREÇO MÁXIMO DISTRIBUIÇÃO', 'COEF DE VARIAÇÃO DISTRIBUIÇÃO', 'MÊS',\n",
       "       'ANO'],\n",
       "      dtype='object')"
      ]
     },
     "execution_count": 6,
     "metadata": {},
     "output_type": "execute_result"
    }
   ],
   "source": [
    "data.columns"
   ]
  },
  {
   "cell_type": "code",
   "execution_count": 7,
   "metadata": {},
   "outputs": [],
   "source": [
    "data.columns = [\n",
    "                    \"Unnamed:_0\", \n",
    "                    \"Analysis_Date\", #DATA INICIAL\n",
    "                    \"Last_Day_of_Analyses_of_Week\", #DATA FINAL\n",
    "                    \"Macroregion\", #REGIÃO\n",
    "                    \"State\", #ESTADO\n",
    "                    \"Product\", #PRODUTO\n",
    "                    \"No_of_Gas_Stations_Analyzed\", #NÚMERO DE POSTOS PESQUISADOS\n",
    "                    \"Measurement_Unit\", #UNIDADE DE MEDIDA\n",
    "                    \"Mean_Price\", #PREÇO MÉDIO REVENDA\n",
    "                    \"Std_Dev\", #MARGEM MÉDIA REVENDA\n",
    "                    \"Min_Price\", #DESVIO PADRÃO REVENDA\n",
    "                    \"Max_Price\", #PREÇO MÁXIMO REVENDA\n",
    "                    \"Mean_Price_Margin\", #MARGEM MÉDIA REVENDA\n",
    "                    \"Coefficient_of_variation\", #COEF DE VARIAÇÃO REVENDA\n",
    "                    \"Mean_Dist_Price\", #PREÇO MÉDIO DISTRIBUIÇÃO\n",
    "                    \"Distribution_Std_Dev\", #DESVIO PADRÃO DISTRIBUIÇÃO\n",
    "                    \"Distribution_Min_Price\", #PREÇO MÍNIMO DISTRIBUIÇÃO\n",
    "                    \"Distribution_Max_Price\", #PREÇO MÁXIMO DISTRIBUIÇÃO\n",
    "                    \"Distribution_Coefficient_of_Variation\", #COEF DE VARIAÇÃO DISTRIBUIÇÃO\n",
    "                    \"Month\", #MÊS\n",
    "                    \"Year\" #ANO\n",
    "]"
   ]
  },
  {
   "cell_type": "code",
   "execution_count": 8,
   "metadata": {},
   "outputs": [
    {
     "data": {
      "text/plain": [
       "Index(['Unnamed:_0', 'Analysis_Date', 'Last_Day_of_Analyses_of_Week',\n",
       "       'Macroregion', 'State', 'Product', 'No_of_Gas_Stations_Analyzed',\n",
       "       'Measurement_Unit', 'Mean_Price', 'Std_Dev', 'Min_Price', 'Max_Price',\n",
       "       'Mean_Price_Margin', 'Coefficient_of_variation', 'Mean_Dist_Price',\n",
       "       'Distribution_Std_Dev', 'Distribution_Min_Price',\n",
       "       'Distribution_Max_Price', 'Distribution_Coefficient_of_Variation',\n",
       "       'Month', 'Year'],\n",
       "      dtype='object')"
      ]
     },
     "execution_count": 8,
     "metadata": {},
     "output_type": "execute_result"
    }
   ],
   "source": [
    "data.columns"
   ]
  },
  {
   "cell_type": "markdown",
   "metadata": {},
   "source": [
    "# Join the Economic Data with the oil data"
   ]
  },
  {
   "cell_type": "code",
   "execution_count": 9,
   "metadata": {},
   "outputs": [],
   "source": [
    "data = data.merge(economic_data, left_on='Analysis_Date', right_on='Date')"
   ]
  },
  {
   "cell_type": "code",
   "execution_count": 10,
   "metadata": {},
   "outputs": [
    {
     "data": {
      "text/html": [
       "<div>\n",
       "<style scoped>\n",
       "    .dataframe tbody tr th:only-of-type {\n",
       "        vertical-align: middle;\n",
       "    }\n",
       "\n",
       "    .dataframe tbody tr th {\n",
       "        vertical-align: top;\n",
       "    }\n",
       "\n",
       "    .dataframe thead th {\n",
       "        text-align: right;\n",
       "    }\n",
       "</style>\n",
       "<table border=\"1\" class=\"dataframe\">\n",
       "  <thead>\n",
       "    <tr style=\"text-align: right;\">\n",
       "      <th></th>\n",
       "      <th>Unnamed:_0</th>\n",
       "      <th>Analysis_Date</th>\n",
       "      <th>Last_Day_of_Analyses_of_Week</th>\n",
       "      <th>Macroregion</th>\n",
       "      <th>State</th>\n",
       "      <th>Product</th>\n",
       "      <th>No_of_Gas_Stations_Analyzed</th>\n",
       "      <th>Measurement_Unit</th>\n",
       "      <th>Mean_Price</th>\n",
       "      <th>Std_Dev</th>\n",
       "      <th>Min_Price</th>\n",
       "      <th>Max_Price</th>\n",
       "      <th>Mean_Price_Margin</th>\n",
       "      <th>Coefficient_of_variation</th>\n",
       "      <th>Mean_Dist_Price</th>\n",
       "      <th>Distribution_Std_Dev</th>\n",
       "      <th>Distribution_Min_Price</th>\n",
       "      <th>Distribution_Max_Price</th>\n",
       "      <th>Distribution_Coefficient_of_Variation</th>\n",
       "      <th>Month</th>\n",
       "      <th>Year</th>\n",
       "      <th>Date</th>\n",
       "      <th>Oil_mean</th>\n",
       "      <th>Selic_mean</th>\n",
       "      <th>Dollar_mean</th>\n",
       "      <th>Gold_mean</th>\n",
       "      <th>Oil_median</th>\n",
       "      <th>Selic_median</th>\n",
       "      <th>Dollar_median</th>\n",
       "      <th>Gold_median</th>\n",
       "      <th>Oil_std</th>\n",
       "      <th>Selic_std</th>\n",
       "      <th>Dollar_std</th>\n",
       "      <th>Gold_std</th>\n",
       "    </tr>\n",
       "  </thead>\n",
       "  <tbody>\n",
       "    <tr>\n",
       "      <th>19375</th>\n",
       "      <td>4223</td>\n",
       "      <td>2007-05-20</td>\n",
       "      <td>2007-05-26</td>\n",
       "      <td>NORTE</td>\n",
       "      <td>PARA</td>\n",
       "      <td>ETANOL HIDRATADO</td>\n",
       "      <td>94</td>\n",
       "      <td>R$/l</td>\n",
       "      <td>2.276</td>\n",
       "      <td>0.113</td>\n",
       "      <td>2.049</td>\n",
       "      <td>2.620</td>\n",
       "      <td>0.295</td>\n",
       "      <td>0.050</td>\n",
       "      <td>1.981</td>\n",
       "      <td>0.094</td>\n",
       "      <td>1.636</td>\n",
       "      <td>2.2089</td>\n",
       "      <td>0.047</td>\n",
       "      <td>5</td>\n",
       "      <td>2007</td>\n",
       "      <td>2007-05-20</td>\n",
       "      <td>64.174286</td>\n",
       "      <td>12.50</td>\n",
       "      <td>1.969400</td>\n",
       "      <td>45.407143</td>\n",
       "      <td>64.830000</td>\n",
       "      <td>12.50</td>\n",
       "      <td>1.957800</td>\n",
       "      <td>45.500000</td>\n",
       "      <td>1.375207</td>\n",
       "      <td>0.0</td>\n",
       "      <td>0.023571</td>\n",
       "      <td>0.276194</td>\n",
       "    </tr>\n",
       "    <tr>\n",
       "      <th>3920</th>\n",
       "      <td>36687</td>\n",
       "      <td>2004-12-12</td>\n",
       "      <td>2004-12-18</td>\n",
       "      <td>NORDESTE</td>\n",
       "      <td>PIAUI</td>\n",
       "      <td>GNV</td>\n",
       "      <td>1</td>\n",
       "      <td>R$/m3</td>\n",
       "      <td>1.399</td>\n",
       "      <td>0.000</td>\n",
       "      <td>1.399</td>\n",
       "      <td>1.399</td>\n",
       "      <td>-</td>\n",
       "      <td>0.000</td>\n",
       "      <td>-</td>\n",
       "      <td>-</td>\n",
       "      <td>-</td>\n",
       "      <td>-</td>\n",
       "      <td>-</td>\n",
       "      <td>12</td>\n",
       "      <td>2004</td>\n",
       "      <td>2004-12-12</td>\n",
       "      <td>41.617143</td>\n",
       "      <td>17.25</td>\n",
       "      <td>2.761300</td>\n",
       "      <td>39.128571</td>\n",
       "      <td>41.510000</td>\n",
       "      <td>17.25</td>\n",
       "      <td>2.773600</td>\n",
       "      <td>39.000000</td>\n",
       "      <td>0.862429</td>\n",
       "      <td>0.0</td>\n",
       "      <td>0.026127</td>\n",
       "      <td>0.401930</td>\n",
       "    </tr>\n",
       "    <tr>\n",
       "      <th>59699</th>\n",
       "      <td>59699</td>\n",
       "      <td>2013-06-30</td>\n",
       "      <td>2013-07-06</td>\n",
       "      <td>SUDESTE</td>\n",
       "      <td>ESPIRITO SANTO</td>\n",
       "      <td>GNV</td>\n",
       "      <td>14</td>\n",
       "      <td>R$/m3</td>\n",
       "      <td>1.929</td>\n",
       "      <td>0.201</td>\n",
       "      <td>1.790</td>\n",
       "      <td>2.430</td>\n",
       "      <td>0.656</td>\n",
       "      <td>0.104</td>\n",
       "      <td>1.273</td>\n",
       "      <td>0.054</td>\n",
       "      <td>1.2145</td>\n",
       "      <td>1.2904</td>\n",
       "      <td>0.042</td>\n",
       "      <td>6</td>\n",
       "      <td>2013</td>\n",
       "      <td>2013-06-30</td>\n",
       "      <td>96.207143</td>\n",
       "      <td>8.00</td>\n",
       "      <td>2.215571</td>\n",
       "      <td>89.028571</td>\n",
       "      <td>96.360000</td>\n",
       "      <td>8.00</td>\n",
       "      <td>2.218000</td>\n",
       "      <td>88.600000</td>\n",
       "      <td>0.941739</td>\n",
       "      <td>0.0</td>\n",
       "      <td>0.021198</td>\n",
       "      <td>2.214132</td>\n",
       "    </tr>\n",
       "    <tr>\n",
       "      <th>1635</th>\n",
       "      <td>12422</td>\n",
       "      <td>2004-08-08</td>\n",
       "      <td>2004-08-14</td>\n",
       "      <td>NORDESTE</td>\n",
       "      <td>MARANHAO</td>\n",
       "      <td>GASOLINA COMUM</td>\n",
       "      <td>189</td>\n",
       "      <td>R$/l</td>\n",
       "      <td>2.182</td>\n",
       "      <td>0.144</td>\n",
       "      <td>1.810</td>\n",
       "      <td>2.480</td>\n",
       "      <td>0.367</td>\n",
       "      <td>0.066</td>\n",
       "      <td>1.815</td>\n",
       "      <td>0.043</td>\n",
       "      <td>1.7307</td>\n",
       "      <td>1.9496</td>\n",
       "      <td>0.024</td>\n",
       "      <td>8</td>\n",
       "      <td>2004</td>\n",
       "      <td>2004-08-08</td>\n",
       "      <td>43.977143</td>\n",
       "      <td>16.00</td>\n",
       "      <td>3.050714</td>\n",
       "      <td>38.567143</td>\n",
       "      <td>44.130000</td>\n",
       "      <td>16.00</td>\n",
       "      <td>3.048100</td>\n",
       "      <td>38.700000</td>\n",
       "      <td>0.603282</td>\n",
       "      <td>0.0</td>\n",
       "      <td>0.007558</td>\n",
       "      <td>0.356113</td>\n",
       "    </tr>\n",
       "    <tr>\n",
       "      <th>28129</th>\n",
       "      <td>30245</td>\n",
       "      <td>2008-09-21</td>\n",
       "      <td>2008-09-27</td>\n",
       "      <td>NORTE</td>\n",
       "      <td>AMAZONAS</td>\n",
       "      <td>GLP</td>\n",
       "      <td>183</td>\n",
       "      <td>R$/13Kg</td>\n",
       "      <td>30.289</td>\n",
       "      <td>2.910</td>\n",
       "      <td>26.000</td>\n",
       "      <td>42.000</td>\n",
       "      <td>5.11</td>\n",
       "      <td>0.096</td>\n",
       "      <td>25.179</td>\n",
       "      <td>1.714</td>\n",
       "      <td>23.09</td>\n",
       "      <td>29.53</td>\n",
       "      <td>0.068</td>\n",
       "      <td>9</td>\n",
       "      <td>2008</td>\n",
       "      <td>2008-09-21</td>\n",
       "      <td>101.801429</td>\n",
       "      <td>13.75</td>\n",
       "      <td>1.844043</td>\n",
       "      <td>51.271429</td>\n",
       "      <td>97.500000</td>\n",
       "      <td>13.75</td>\n",
       "      <td>1.839000</td>\n",
       "      <td>51.333333</td>\n",
       "      <td>8.885891</td>\n",
       "      <td>0.0</td>\n",
       "      <td>0.036459</td>\n",
       "      <td>2.903155</td>\n",
       "    </tr>\n",
       "    <tr>\n",
       "      <th>13992</th>\n",
       "      <td>46595</td>\n",
       "      <td>2006-07-16</td>\n",
       "      <td>2006-07-22</td>\n",
       "      <td>SUL</td>\n",
       "      <td>RIO GRANDE DO SUL</td>\n",
       "      <td>ÓLEO DIESEL</td>\n",
       "      <td>617</td>\n",
       "      <td>R$/l</td>\n",
       "      <td>1.960</td>\n",
       "      <td>0.059</td>\n",
       "      <td>1.790</td>\n",
       "      <td>2.155</td>\n",
       "      <td>0.239</td>\n",
       "      <td>0.030</td>\n",
       "      <td>1.721</td>\n",
       "      <td>0.03</td>\n",
       "      <td>1.6105</td>\n",
       "      <td>1.8219</td>\n",
       "      <td>0.017</td>\n",
       "      <td>7</td>\n",
       "      <td>2006</td>\n",
       "      <td>2006-07-16</td>\n",
       "      <td>75.505714</td>\n",
       "      <td>15.25</td>\n",
       "      <td>2.199429</td>\n",
       "      <td>46.660000</td>\n",
       "      <td>76.066667</td>\n",
       "      <td>15.25</td>\n",
       "      <td>2.209800</td>\n",
       "      <td>47.133333</td>\n",
       "      <td>1.334453</td>\n",
       "      <td>0.0</td>\n",
       "      <td>0.015836</td>\n",
       "      <td>1.327572</td>\n",
       "    </tr>\n",
       "    <tr>\n",
       "      <th>99860</th>\n",
       "      <td>99860</td>\n",
       "      <td>2018-08-05</td>\n",
       "      <td>2018-08-11</td>\n",
       "      <td>CENTRO OESTE</td>\n",
       "      <td>GOIAS</td>\n",
       "      <td>GASOLINA COMUM</td>\n",
       "      <td>228</td>\n",
       "      <td>R$/l</td>\n",
       "      <td>4.684</td>\n",
       "      <td>0.151</td>\n",
       "      <td>4.299</td>\n",
       "      <td>4.999</td>\n",
       "      <td>0.545</td>\n",
       "      <td>0.032</td>\n",
       "      <td>4.139</td>\n",
       "      <td>0.074</td>\n",
       "      <td>4.02</td>\n",
       "      <td>4.28</td>\n",
       "      <td>0.018</td>\n",
       "      <td>8</td>\n",
       "      <td>2018</td>\n",
       "      <td>2018-08-05</td>\n",
       "      <td>69.258571</td>\n",
       "      <td>6.50</td>\n",
       "      <td>3.734486</td>\n",
       "      <td>145.171429</td>\n",
       "      <td>68.836667</td>\n",
       "      <td>6.50</td>\n",
       "      <td>3.720367</td>\n",
       "      <td>146.100000</td>\n",
       "      <td>0.961345</td>\n",
       "      <td>0.0</td>\n",
       "      <td>0.020304</td>\n",
       "      <td>1.592393</td>\n",
       "    </tr>\n",
       "    <tr>\n",
       "      <th>9017</th>\n",
       "      <td>45503</td>\n",
       "      <td>2005-10-09</td>\n",
       "      <td>2005-10-15</td>\n",
       "      <td>NORTE</td>\n",
       "      <td>ACRE</td>\n",
       "      <td>ÓLEO DIESEL</td>\n",
       "      <td>42</td>\n",
       "      <td>R$/l</td>\n",
       "      <td>2.252</td>\n",
       "      <td>0.144</td>\n",
       "      <td>2.130</td>\n",
       "      <td>2.600</td>\n",
       "      <td>0.329</td>\n",
       "      <td>0.064</td>\n",
       "      <td>1.923</td>\n",
       "      <td>0.108</td>\n",
       "      <td>1.771</td>\n",
       "      <td>2.1465</td>\n",
       "      <td>0.056</td>\n",
       "      <td>10</td>\n",
       "      <td>2005</td>\n",
       "      <td>2005-10-09</td>\n",
       "      <td>62.542857</td>\n",
       "      <td>19.50</td>\n",
       "      <td>2.256029</td>\n",
       "      <td>34.157143</td>\n",
       "      <td>61.810000</td>\n",
       "      <td>19.50</td>\n",
       "      <td>2.254000</td>\n",
       "      <td>34.266667</td>\n",
       "      <td>1.516716</td>\n",
       "      <td>0.0</td>\n",
       "      <td>0.018377</td>\n",
       "      <td>0.405044</td>\n",
       "    </tr>\n",
       "    <tr>\n",
       "      <th>21752</th>\n",
       "      <td>16791</td>\n",
       "      <td>2007-09-30</td>\n",
       "      <td>2007-10-06</td>\n",
       "      <td>CENTRO OESTE</td>\n",
       "      <td>MATO GROSSO DO SUL</td>\n",
       "      <td>GASOLINA COMUM</td>\n",
       "      <td>136</td>\n",
       "      <td>R$/l</td>\n",
       "      <td>2.667</td>\n",
       "      <td>0.086</td>\n",
       "      <td>2.544</td>\n",
       "      <td>2.840</td>\n",
       "      <td>0.421</td>\n",
       "      <td>0.032</td>\n",
       "      <td>2.246</td>\n",
       "      <td>0.049</td>\n",
       "      <td>2.1</td>\n",
       "      <td>2.439</td>\n",
       "      <td>0.022</td>\n",
       "      <td>9</td>\n",
       "      <td>2007</td>\n",
       "      <td>2007-09-30</td>\n",
       "      <td>81.495714</td>\n",
       "      <td>11.25</td>\n",
       "      <td>1.845700</td>\n",
       "      <td>43.807143</td>\n",
       "      <td>81.200000</td>\n",
       "      <td>11.25</td>\n",
       "      <td>1.840100</td>\n",
       "      <td>43.833333</td>\n",
       "      <td>0.916951</td>\n",
       "      <td>0.0</td>\n",
       "      <td>0.015814</td>\n",
       "      <td>0.178434</td>\n",
       "    </tr>\n",
       "    <tr>\n",
       "      <th>85582</th>\n",
       "      <td>85582</td>\n",
       "      <td>2016-10-09</td>\n",
       "      <td>2016-10-15</td>\n",
       "      <td>SUDESTE</td>\n",
       "      <td>SAO PAULO</td>\n",
       "      <td>GNV</td>\n",
       "      <td>61</td>\n",
       "      <td>R$/m3</td>\n",
       "      <td>2.058</td>\n",
       "      <td>0.174</td>\n",
       "      <td>1.799</td>\n",
       "      <td>2.649</td>\n",
       "      <td>0.583</td>\n",
       "      <td>0.085</td>\n",
       "      <td>1.475</td>\n",
       "      <td>0.164</td>\n",
       "      <td>1.3088</td>\n",
       "      <td>1.7645</td>\n",
       "      <td>0.111</td>\n",
       "      <td>10</td>\n",
       "      <td>2016</td>\n",
       "      <td>2016-10-09</td>\n",
       "      <td>49.562857</td>\n",
       "      <td>14.25</td>\n",
       "      <td>3.222300</td>\n",
       "      <td>130.657143</td>\n",
       "      <td>49.760000</td>\n",
       "      <td>14.25</td>\n",
       "      <td>3.219700</td>\n",
       "      <td>129.500000</td>\n",
       "      <td>0.619158</td>\n",
       "      <td>0.0</td>\n",
       "      <td>0.010396</td>\n",
       "      <td>2.130442</td>\n",
       "    </tr>\n",
       "  </tbody>\n",
       "</table>\n",
       "</div>"
      ],
      "text/plain": [
       "       Unnamed:_0 Analysis_Date Last_Day_of_Analyses_of_Week   Macroregion  \\\n",
       "19375        4223    2007-05-20                   2007-05-26         NORTE   \n",
       "3920        36687    2004-12-12                   2004-12-18      NORDESTE   \n",
       "59699       59699    2013-06-30                   2013-07-06       SUDESTE   \n",
       "1635        12422    2004-08-08                   2004-08-14      NORDESTE   \n",
       "28129       30245    2008-09-21                   2008-09-27         NORTE   \n",
       "13992       46595    2006-07-16                   2006-07-22           SUL   \n",
       "99860       99860    2018-08-05                   2018-08-11  CENTRO OESTE   \n",
       "9017        45503    2005-10-09                   2005-10-15         NORTE   \n",
       "21752       16791    2007-09-30                   2007-10-06  CENTRO OESTE   \n",
       "85582       85582    2016-10-09                   2016-10-15       SUDESTE   \n",
       "\n",
       "                    State           Product  No_of_Gas_Stations_Analyzed  \\\n",
       "19375                PARA  ETANOL HIDRATADO                           94   \n",
       "3920                PIAUI               GNV                            1   \n",
       "59699      ESPIRITO SANTO               GNV                           14   \n",
       "1635             MARANHAO    GASOLINA COMUM                          189   \n",
       "28129            AMAZONAS               GLP                          183   \n",
       "13992   RIO GRANDE DO SUL       ÓLEO DIESEL                          617   \n",
       "99860               GOIAS    GASOLINA COMUM                          228   \n",
       "9017                 ACRE       ÓLEO DIESEL                           42   \n",
       "21752  MATO GROSSO DO SUL    GASOLINA COMUM                          136   \n",
       "85582           SAO PAULO               GNV                           61   \n",
       "\n",
       "      Measurement_Unit  Mean_Price  Std_Dev  Min_Price  Max_Price  \\\n",
       "19375             R$/l       2.276    0.113      2.049      2.620   \n",
       "3920             R$/m3       1.399    0.000      1.399      1.399   \n",
       "59699            R$/m3       1.929    0.201      1.790      2.430   \n",
       "1635              R$/l       2.182    0.144      1.810      2.480   \n",
       "28129          R$/13Kg      30.289    2.910     26.000     42.000   \n",
       "13992             R$/l       1.960    0.059      1.790      2.155   \n",
       "99860             R$/l       4.684    0.151      4.299      4.999   \n",
       "9017              R$/l       2.252    0.144      2.130      2.600   \n",
       "21752             R$/l       2.667    0.086      2.544      2.840   \n",
       "85582            R$/m3       2.058    0.174      1.799      2.649   \n",
       "\n",
       "      Mean_Price_Margin  Coefficient_of_variation Mean_Dist_Price  \\\n",
       "19375             0.295                     0.050           1.981   \n",
       "3920                  -                     0.000               -   \n",
       "59699             0.656                     0.104           1.273   \n",
       "1635              0.367                     0.066           1.815   \n",
       "28129              5.11                     0.096          25.179   \n",
       "13992             0.239                     0.030           1.721   \n",
       "99860             0.545                     0.032           4.139   \n",
       "9017              0.329                     0.064           1.923   \n",
       "21752             0.421                     0.032           2.246   \n",
       "85582             0.583                     0.085           1.475   \n",
       "\n",
       "      Distribution_Std_Dev Distribution_Min_Price Distribution_Max_Price  \\\n",
       "19375                0.094                  1.636                 2.2089   \n",
       "3920                     -                      -                      -   \n",
       "59699                0.054                 1.2145                 1.2904   \n",
       "1635                 0.043                 1.7307                 1.9496   \n",
       "28129                1.714                  23.09                  29.53   \n",
       "13992                 0.03                 1.6105                 1.8219   \n",
       "99860                0.074                   4.02                   4.28   \n",
       "9017                 0.108                  1.771                 2.1465   \n",
       "21752                0.049                    2.1                  2.439   \n",
       "85582                0.164                 1.3088                 1.7645   \n",
       "\n",
       "      Distribution_Coefficient_of_Variation  Month  Year       Date  \\\n",
       "19375                                 0.047      5  2007 2007-05-20   \n",
       "3920                                      -     12  2004 2004-12-12   \n",
       "59699                                 0.042      6  2013 2013-06-30   \n",
       "1635                                  0.024      8  2004 2004-08-08   \n",
       "28129                                 0.068      9  2008 2008-09-21   \n",
       "13992                                 0.017      7  2006 2006-07-16   \n",
       "99860                                 0.018      8  2018 2018-08-05   \n",
       "9017                                  0.056     10  2005 2005-10-09   \n",
       "21752                                 0.022      9  2007 2007-09-30   \n",
       "85582                                 0.111     10  2016 2016-10-09   \n",
       "\n",
       "         Oil_mean  Selic_mean  Dollar_mean   Gold_mean  Oil_median  \\\n",
       "19375   64.174286       12.50     1.969400   45.407143   64.830000   \n",
       "3920    41.617143       17.25     2.761300   39.128571   41.510000   \n",
       "59699   96.207143        8.00     2.215571   89.028571   96.360000   \n",
       "1635    43.977143       16.00     3.050714   38.567143   44.130000   \n",
       "28129  101.801429       13.75     1.844043   51.271429   97.500000   \n",
       "13992   75.505714       15.25     2.199429   46.660000   76.066667   \n",
       "99860   69.258571        6.50     3.734486  145.171429   68.836667   \n",
       "9017    62.542857       19.50     2.256029   34.157143   61.810000   \n",
       "21752   81.495714       11.25     1.845700   43.807143   81.200000   \n",
       "85582   49.562857       14.25     3.222300  130.657143   49.760000   \n",
       "\n",
       "       Selic_median  Dollar_median  Gold_median   Oil_std  Selic_std  \\\n",
       "19375         12.50       1.957800    45.500000  1.375207        0.0   \n",
       "3920          17.25       2.773600    39.000000  0.862429        0.0   \n",
       "59699          8.00       2.218000    88.600000  0.941739        0.0   \n",
       "1635          16.00       3.048100    38.700000  0.603282        0.0   \n",
       "28129         13.75       1.839000    51.333333  8.885891        0.0   \n",
       "13992         15.25       2.209800    47.133333  1.334453        0.0   \n",
       "99860          6.50       3.720367   146.100000  0.961345        0.0   \n",
       "9017          19.50       2.254000    34.266667  1.516716        0.0   \n",
       "21752         11.25       1.840100    43.833333  0.916951        0.0   \n",
       "85582         14.25       3.219700   129.500000  0.619158        0.0   \n",
       "\n",
       "       Dollar_std  Gold_std  \n",
       "19375    0.023571  0.276194  \n",
       "3920     0.026127  0.401930  \n",
       "59699    0.021198  2.214132  \n",
       "1635     0.007558  0.356113  \n",
       "28129    0.036459  2.903155  \n",
       "13992    0.015836  1.327572  \n",
       "99860    0.020304  1.592393  \n",
       "9017     0.018377  0.405044  \n",
       "21752    0.015814  0.178434  \n",
       "85582    0.010396  2.130442  "
      ]
     },
     "execution_count": 10,
     "metadata": {},
     "output_type": "execute_result"
    }
   ],
   "source": [
    "data.sample(10)"
   ]
  },
  {
   "cell_type": "markdown",
   "metadata": {},
   "source": [
    "# Train and Validation Split (Simple Holdout)"
   ]
  },
  {
   "cell_type": "code",
   "execution_count": 378,
   "metadata": {},
   "outputs": [
    {
     "data": {
      "text/plain": [
       "((42514, 34), (64309, 34))"
      ]
     },
     "execution_count": 378,
     "metadata": {},
     "output_type": "execute_result"
    }
   ],
   "source": [
    "data_train = data[data['Last_Day_of_Analyses_of_Week'] < '2011-01-01']\n",
    "data_valid = data[data['Last_Day_of_Analyses_of_Week'] >= '2011-01-01']\n",
    "\n",
    "data_train.shape, data_valid.shape"
   ]
  },
  {
   "cell_type": "markdown",
   "metadata": {},
   "source": [
    "# New DataFrame for Train and Validation (Index: original Data)"
   ]
  },
  {
   "cell_type": "code",
   "execution_count": 379,
   "metadata": {},
   "outputs": [],
   "source": [
    "df_train = pd.DataFrame(index=data_train.index)\n",
    "df_valid  = pd.DataFrame(index=data_valid.index)"
   ]
  },
  {
   "cell_type": "markdown",
   "metadata": {},
   "source": [
    "# Target"
   ]
  },
  {
   "cell_type": "markdown",
   "metadata": {},
   "source": [
    "## First Difference of Average Resale Price"
   ]
  },
  {
   "cell_type": "code",
   "execution_count": 380,
   "metadata": {},
   "outputs": [],
   "source": [
    "df_train['diff_Mean_Price'] = data_train.groupby(['Product', 'State'])['Mean_Price'].apply(lambda row: row.diff().shift(-1))\n",
    "df_valid['diff_Mean_Price'] = data_valid.groupby(['Product', 'State'])['Mean_Price'].apply(lambda row: row.diff().shift(-1))"
   ]
  },
  {
   "cell_type": "markdown",
   "metadata": {},
   "source": [
    "# Features"
   ]
  },
  {
   "cell_type": "markdown",
   "metadata": {},
   "source": [
    "## Current Mean Price"
   ]
  },
  {
   "cell_type": "code",
   "execution_count": 381,
   "metadata": {},
   "outputs": [],
   "source": [
    "df_train['Current_Mean_Price'] = data_train['Mean_Price']\n",
    "df_valid['Current_Mean_Price'] = data_valid['Mean_Price']"
   ]
  },
  {
   "cell_type": "markdown",
   "metadata": {},
   "source": [
    "## Seasonality"
   ]
  },
  {
   "cell_type": "code",
   "execution_count": 382,
   "metadata": {},
   "outputs": [],
   "source": [
    "df_train['month'] = data_train['Last_Day_of_Analyses_of_Week'].dt.month\n",
    "df_train['day'] = data_train['Last_Day_of_Analyses_of_Week'].dt.day\n",
    "#df_train['weekday'] = data_train['Last_Day_of_Analyses_of_Week'].dt.weekday\n",
    "df_train['dayofyear'] = data_train['Last_Day_of_Analyses_of_Week'].dt.dayofyear\n",
    "\n",
    "df_valid['month'] = data_valid['Last_Day_of_Analyses_of_Week'].dt.month\n",
    "df_valid['day'] = data_valid['Last_Day_of_Analyses_of_Week'].dt.day\n",
    "#df_valid['weekday'] = data_valid['Last_Day_of_Analyses_of_Week'].dt.weekday\n",
    "df_valid['dayofyear'] = data_valid['Last_Day_of_Analyses_of_Week'].dt.dayofyear"
   ]
  },
  {
   "cell_type": "markdown",
   "metadata": {},
   "source": [
    "## Movel Average"
   ]
  },
  {
   "cell_type": "code",
   "execution_count": 383,
   "metadata": {},
   "outputs": [
    {
     "data": {
      "text/plain": [
       "13         NaN\n",
       "136        NaN\n",
       "259        NaN\n",
       "382    1.80525\n",
       "505    1.80550\n",
       "Name: Mean_Price, dtype: float64"
      ]
     },
     "execution_count": 383,
     "metadata": {},
     "output_type": "execute_result"
    }
   ],
   "source": [
    "roll = data_train.groupby(['Product', 'State'])['Mean_Price'].rolling(4).mean()\n",
    "roll.reset_index(level=[0,1], drop=True).head()"
   ]
  },
  {
   "cell_type": "code",
   "execution_count": 384,
   "metadata": {},
   "outputs": [],
   "source": [
    "df_train['Movel_Average_Mean_Price_4_weeks'] = data_train.groupby(['Product', 'State'])['Mean_Price'].rolling(4).mean().reset_index(level=[0,1], drop=True)\n",
    "df_valid['Movel_Average_Mean_Price_4_weeks'] = data_valid.groupby(['Product', 'State'])['Mean_Price'].rolling(4).mean().reset_index(level=[0,1], drop=True)"
   ]
  },
  {
   "cell_type": "markdown",
   "metadata": {},
   "source": [
    "## Economics Features"
   ]
  },
  {
   "cell_type": "code",
   "execution_count": 385,
   "metadata": {},
   "outputs": [],
   "source": [
    "### Oil_mean\tSelic_mean\tDollar_mean\tGold_mean"
   ]
  },
  {
   "cell_type": "code",
   "execution_count": 386,
   "metadata": {},
   "outputs": [],
   "source": [
    "#mean\n",
    "\n",
    "# df_train['Oil_mean'] = data_train['Oil_mean']\n",
    "# df_train['Selic_mean'] = data_train['Selic_mean']\n",
    "df_train['Oil_mean/Selic_mean'] = data_train['Oil_mean'] / data_train['Selic_mean']\n",
    "# df_train['Dollar_mean'] = data_train['Dollar_mean']\n",
    "# df_train['Gold_mean'] = data_train['Gold_mean']\n",
    "\n",
    "# df_valid['Oil_mean'] = data_valid['Oil_mean']\n",
    "# df_valid['Selic_mean'] = data_valid['Selic_mean']\n",
    "df_valid['Oil_mean/Selic_mean'] = data_valid['Oil_mean'] / data_valid['Selic_mean']\n",
    "# df_valid['Dollar_mean'] = data_valid['Dollar_mean']\n",
    "# df_valid['Gold_mean'] = data_valid['Gold_mean']"
   ]
  },
  {
   "cell_type": "code",
   "execution_count": 387,
   "metadata": {},
   "outputs": [],
   "source": [
    "#median\n",
    "\n",
    "# df_train['Oil_median'] = data_train['Oil_median']\n",
    "# df_train['Selic_median'] = data_train['Selic_median']\n",
    "# df_train['Dollar_median'] = data_train['Dollar_median']\n",
    "# df_train['Gold_median'] = data_train['Gold_median']\n",
    "\n",
    "# df_valid['Oil_median'] = data_valid['Oil_median']\n",
    "# df_valid['Selic_median'] = data_valid['Selic_median']\n",
    "# df_valid['Dollar_median'] = data_valid['Dollar_median']\n",
    "# df_valid['Gold_median'] = data_valid['Gold_median']"
   ]
  },
  {
   "cell_type": "code",
   "execution_count": 388,
   "metadata": {},
   "outputs": [],
   "source": [
    "#std\n",
    "\n",
    "# df_train['Oil_std'] = data_train['Oil_std']\n",
    "# df_train['Selic_std'] = data_train['Selic_std']\n",
    "# df_train['Dollar_std'] = data_train['Dollar_std']\n",
    "# df_train['Gold_std'] = data_train['Gold_std']\n",
    "\n",
    "# df_valid['Oil_std'] = data_valid['Oil_std']\n",
    "# df_valid['Selic_std'] = data_valid['Selic_std']\n",
    "# df_valid['Dollar_std'] = data_valid['Dollar_std']\n",
    "# df_valid['Gold_std'] = data_valid['Gold_std']"
   ]
  },
  {
   "cell_type": "code",
   "execution_count": 389,
   "metadata": {},
   "outputs": [
    {
     "data": {
      "text/plain": [
       "diff_Mean_Price                     134\n",
       "Current_Mean_Price                    0\n",
       "month                                 0\n",
       "day                                   0\n",
       "dayofyear                             0\n",
       "Movel_Average_Mean_Price_4_weeks    401\n",
       "Oil_mean/Selic_mean                   0\n",
       "dtype: int64"
      ]
     },
     "execution_count": 389,
     "metadata": {},
     "output_type": "execute_result"
    }
   ],
   "source": [
    "df_train.isnull().sum()"
   ]
  },
  {
   "cell_type": "code",
   "execution_count": 390,
   "metadata": {},
   "outputs": [],
   "source": [
    "###### Drop NA\n",
    "\n",
    "############# >>>>>>>>>>>>>>>>> Interpolate?\n",
    "\n",
    "\n",
    "df_train = df_train.dropna()\n",
    "df_valid = df_valid.dropna()"
   ]
  },
  {
   "cell_type": "markdown",
   "metadata": {},
   "source": [
    "## X, y Train and Validation Split"
   ]
  },
  {
   "cell_type": "code",
   "execution_count": 391,
   "metadata": {},
   "outputs": [],
   "source": [
    "Xtr, ytr = df_train.drop(['diff_Mean_Price'], axis=1), df_train['diff_Mean_Price']\n",
    "Xval, yval = df_valid.drop(['diff_Mean_Price'], axis=1), df_valid['diff_Mean_Price']"
   ]
  },
  {
   "cell_type": "markdown",
   "metadata": {},
   "source": [
    "# Model"
   ]
  },
  {
   "cell_type": "markdown",
   "metadata": {},
   "source": [
    "## RandomForestRegressor"
   ]
  },
  {
   "cell_type": "code",
   "execution_count": 365,
   "metadata": {},
   "outputs": [],
   "source": [
    "mdl = RandomForestRegressor(n_jobs=-1, random_state=0, n_estimators=500)\n",
    "mdl.fit(Xtr, ytr)\n",
    "p = mdl.predict(Xval)"
   ]
  },
  {
   "cell_type": "markdown",
   "metadata": {},
   "source": [
    "#### Metric"
   ]
  },
  {
   "cell_type": "code",
   "execution_count": 367,
   "metadata": {},
   "outputs": [
    {
     "data": {
      "text/plain": [
       "1.265551653411377"
      ]
     },
     "execution_count": 367,
     "metadata": {},
     "output_type": "execute_result"
    }
   ],
   "source": [
    "p_final = Xval['Current_Mean_Price'] + p\n",
    "yval_final = Xval['Current_Mean_Price'] + yval\n",
    "\n",
    "np.sqrt(mean_squared_log_error(yval_final, p_final)) * 100"
   ]
  },
  {
   "cell_type": "markdown",
   "metadata": {},
   "source": [
    "## LGBMRegressor"
   ]
  },
  {
   "cell_type": "code",
   "execution_count": 392,
   "metadata": {},
   "outputs": [
    {
     "name": "stdout",
     "output_type": "stream",
     "text": [
      "[LightGBM] [Warning] min_data_in_leaf is set=250, min_child_samples=20 will be ignored. Current value: min_data_in_leaf=250\n"
     ]
    }
   ],
   "source": [
    "mdl = LGBMRegressor(num_leaves=2, min_data_in_leaf=250, n_jobs=-1, random_state=0, n_estimators=500)\n",
    "mdl.fit(Xtr, ytr)\n",
    "p = mdl.predict(Xval)"
   ]
  },
  {
   "cell_type": "markdown",
   "metadata": {},
   "source": [
    "#### Metric"
   ]
  },
  {
   "cell_type": "code",
   "execution_count": 393,
   "metadata": {},
   "outputs": [
    {
     "data": {
      "text/plain": [
       "1.2448081487292426"
      ]
     },
     "execution_count": 393,
     "metadata": {},
     "output_type": "execute_result"
    }
   ],
   "source": [
    "p_final = Xval['Current_Mean_Price'] + p\n",
    "yval_final = Xval['Current_Mean_Price'] + yval\n",
    "\n",
    "np.sqrt(mean_squared_log_error(yval_final, p_final)) * 100"
   ]
  },
  {
   "cell_type": "markdown",
   "metadata": {},
   "source": [
    "## LinearRegression"
   ]
  },
  {
   "cell_type": "code",
   "execution_count": 394,
   "metadata": {},
   "outputs": [],
   "source": [
    "mdl = LinearRegression()\n",
    "mdl.fit(Xtr, ytr)\n",
    "p = mdl.predict(Xval)"
   ]
  },
  {
   "cell_type": "markdown",
   "metadata": {},
   "source": [
    "#### Metric"
   ]
  },
  {
   "cell_type": "code",
   "execution_count": 395,
   "metadata": {},
   "outputs": [
    {
     "data": {
      "text/plain": [
       "1.2282596740482903"
      ]
     },
     "execution_count": 395,
     "metadata": {},
     "output_type": "execute_result"
    }
   ],
   "source": [
    "p_final = Xval['Current_Mean_Price'] + p\n",
    "yval_final = Xval['Current_Mean_Price'] + yval\n",
    "\n",
    "np.sqrt(mean_squared_log_error(yval_final, p_final)) * 100"
   ]
  },
  {
   "cell_type": "markdown",
   "metadata": {},
   "source": [
    "## Lasso"
   ]
  },
  {
   "cell_type": "code",
   "execution_count": 396,
   "metadata": {},
   "outputs": [],
   "source": [
    "mdl = Lasso()\n",
    "mdl.fit(Xtr, ytr)\n",
    "p = mdl.predict(Xval)"
   ]
  },
  {
   "cell_type": "markdown",
   "metadata": {},
   "source": [
    "#### Metric"
   ]
  },
  {
   "cell_type": "code",
   "execution_count": 397,
   "metadata": {},
   "outputs": [
    {
     "data": {
      "text/plain": [
       "1.242464532053409"
      ]
     },
     "execution_count": 397,
     "metadata": {},
     "output_type": "execute_result"
    }
   ],
   "source": [
    "p_final = Xval['Current_Mean_Price'] + p\n",
    "yval_final = Xval['Current_Mean_Price'] + yval\n",
    "\n",
    "np.sqrt(mean_squared_log_error(yval_final, p_final)) * 100"
   ]
  },
  {
   "cell_type": "markdown",
   "metadata": {},
   "source": [
    "## Ridge"
   ]
  },
  {
   "cell_type": "code",
   "execution_count": 398,
   "metadata": {},
   "outputs": [],
   "source": [
    "mdl = Ridge()\n",
    "mdl.fit(Xtr, ytr)\n",
    "p = mdl.predict(Xval)"
   ]
  },
  {
   "cell_type": "markdown",
   "metadata": {},
   "source": [
    "#### Metric"
   ]
  },
  {
   "cell_type": "code",
   "execution_count": 399,
   "metadata": {},
   "outputs": [
    {
     "data": {
      "text/plain": [
       "1.2281631620398965"
      ]
     },
     "execution_count": 399,
     "metadata": {},
     "output_type": "execute_result"
    }
   ],
   "source": [
    "p_final = Xval['Current_Mean_Price'] + p\n",
    "yval_final = Xval['Current_Mean_Price'] + yval\n",
    "\n",
    "np.sqrt(mean_squared_log_error(yval_final, p_final)) * 100"
   ]
  },
  {
   "cell_type": "markdown",
   "metadata": {},
   "source": [
    "## BayesianRidge"
   ]
  },
  {
   "cell_type": "code",
   "execution_count": 400,
   "metadata": {},
   "outputs": [],
   "source": [
    "mdl = BayesianRidge()\n",
    "mdl.fit(Xtr, ytr)\n",
    "p = mdl.predict(Xval)"
   ]
  },
  {
   "cell_type": "markdown",
   "metadata": {},
   "source": [
    "#### Metric"
   ]
  },
  {
   "cell_type": "code",
   "execution_count": 401,
   "metadata": {},
   "outputs": [
    {
     "data": {
      "text/plain": [
       "1.228178084175797"
      ]
     },
     "execution_count": 401,
     "metadata": {},
     "output_type": "execute_result"
    }
   ],
   "source": [
    "p_final = Xval['Current_Mean_Price'] + p\n",
    "yval_final = Xval['Current_Mean_Price'] + yval\n",
    "\n",
    "np.sqrt(mean_squared_log_error(yval_final, p_final)) * 100"
   ]
  },
  {
   "cell_type": "code",
   "execution_count": null,
   "metadata": {},
   "outputs": [],
   "source": []
  }
 ],
 "metadata": {
  "kernelspec": {
   "display_name": "Python 3",
   "language": "python",
   "name": "python3"
  },
  "language_info": {
   "codemirror_mode": {
    "name": "ipython",
    "version": 3
   },
   "file_extension": ".py",
   "mimetype": "text/x-python",
   "name": "python",
   "nbconvert_exporter": "python",
   "pygments_lexer": "ipython3",
   "version": "3.8.3"
  }
 },
 "nbformat": 4,
 "nbformat_minor": 4
}
