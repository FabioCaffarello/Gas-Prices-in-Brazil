{
 "cells": [
  {
   "cell_type": "markdown",
   "metadata": {},
   "source": [
    "# Libraries"
   ]
  },
  {
   "cell_type": "code",
   "execution_count": 27,
   "metadata": {},
   "outputs": [],
   "source": [
    "import pandas as pd\n",
    "import numpy as np\n",
    "import matplotlib.pyplot as plt\n",
    "import warnings\n",
    "\n",
    "warnings.filterwarnings(\"ignore\")\n",
    "pd.set_option('display.max_columns', 200)\n",
    "\n",
    "from sklearn.metrics import mean_squared_log_error\n",
    "\n",
    "from sklearn.ensemble import RandomForestRegressor\n",
    "from lightgbm import LGBMRegressor\n",
    "from sklearn.linear_model import LinearRegression\n",
    "from sklearn.linear_model import Lasso\n",
    "from sklearn.linear_model import Ridge\n",
    "from sklearn.linear_model import BayesianRidge"
   ]
  },
  {
   "cell_type": "markdown",
   "metadata": {},
   "source": [
    "# Read Data"
   ]
  },
  {
   "cell_type": "code",
   "execution_count": 28,
   "metadata": {},
   "outputs": [],
   "source": [
    "data = pd.read_csv('../01-Data/DataGas.csv', parse_dates=['Analysis_Date', 'Last_Day_of_Analyses_of_Week'])"
   ]
  },
  {
   "cell_type": "code",
   "execution_count": 29,
   "metadata": {},
   "outputs": [
    {
     "data": {
      "text/html": [
       "<div>\n",
       "<style scoped>\n",
       "    .dataframe tbody tr th:only-of-type {\n",
       "        vertical-align: middle;\n",
       "    }\n",
       "\n",
       "    .dataframe tbody tr th {\n",
       "        vertical-align: top;\n",
       "    }\n",
       "\n",
       "    .dataframe thead th {\n",
       "        text-align: right;\n",
       "    }\n",
       "</style>\n",
       "<table border=\"1\" class=\"dataframe\">\n",
       "  <thead>\n",
       "    <tr style=\"text-align: right;\">\n",
       "      <th></th>\n",
       "      <th>Unnamed:_0</th>\n",
       "      <th>Analysis_Date</th>\n",
       "      <th>Last_Day_of_Analyses_of_Week</th>\n",
       "      <th>Macroregion</th>\n",
       "      <th>State</th>\n",
       "      <th>Product</th>\n",
       "      <th>No_of_Gas_Stations_Analyzed</th>\n",
       "      <th>Measurement_Unit</th>\n",
       "      <th>Mean_Price</th>\n",
       "      <th>Std_Dev</th>\n",
       "      <th>Min_Price</th>\n",
       "      <th>Max_Price</th>\n",
       "      <th>Mean_Price_Margin</th>\n",
       "      <th>Coefficient_of_variation</th>\n",
       "      <th>Mean_Dist_Price</th>\n",
       "      <th>Distribution_Std_Dev</th>\n",
       "      <th>Distribution_Min_Price</th>\n",
       "      <th>Distribution_Max_Price</th>\n",
       "      <th>Distribution_Coefficient_of_Variation</th>\n",
       "      <th>Month</th>\n",
       "      <th>Year</th>\n",
       "    </tr>\n",
       "  </thead>\n",
       "  <tbody>\n",
       "    <tr>\n",
       "      <th>0</th>\n",
       "      <td>12064</td>\n",
       "      <td>2004-05-09</td>\n",
       "      <td>2004-05-15</td>\n",
       "      <td>CENTRO OESTE</td>\n",
       "      <td>DISTRITO FEDERAL</td>\n",
       "      <td>GASOLINA COMUM</td>\n",
       "      <td>128</td>\n",
       "      <td>R$/l</td>\n",
       "      <td>2.029</td>\n",
       "      <td>0.007</td>\n",
       "      <td>1.99</td>\n",
       "      <td>2.070</td>\n",
       "      <td>0.318</td>\n",
       "      <td>0.003</td>\n",
       "      <td>1.711</td>\n",
       "      <td>0.02</td>\n",
       "      <td>1.651</td>\n",
       "      <td>1.7427</td>\n",
       "      <td>0.012</td>\n",
       "      <td>5</td>\n",
       "      <td>2004</td>\n",
       "    </tr>\n",
       "    <tr>\n",
       "      <th>1</th>\n",
       "      <td>12065</td>\n",
       "      <td>2004-05-09</td>\n",
       "      <td>2004-05-15</td>\n",
       "      <td>CENTRO OESTE</td>\n",
       "      <td>GOIAS</td>\n",
       "      <td>GASOLINA COMUM</td>\n",
       "      <td>395</td>\n",
       "      <td>R$/l</td>\n",
       "      <td>2.025</td>\n",
       "      <td>0.062</td>\n",
       "      <td>1.85</td>\n",
       "      <td>2.220</td>\n",
       "      <td>0.296</td>\n",
       "      <td>0.031</td>\n",
       "      <td>1.729</td>\n",
       "      <td>0.036</td>\n",
       "      <td>1.6643</td>\n",
       "      <td>1.915</td>\n",
       "      <td>0.021</td>\n",
       "      <td>5</td>\n",
       "      <td>2004</td>\n",
       "    </tr>\n",
       "    <tr>\n",
       "      <th>2</th>\n",
       "      <td>12066</td>\n",
       "      <td>2004-05-09</td>\n",
       "      <td>2004-05-15</td>\n",
       "      <td>CENTRO OESTE</td>\n",
       "      <td>MATO GROSSO</td>\n",
       "      <td>GASOLINA COMUM</td>\n",
       "      <td>194</td>\n",
       "      <td>R$/l</td>\n",
       "      <td>2.358</td>\n",
       "      <td>0.066</td>\n",
       "      <td>2.00</td>\n",
       "      <td>2.540</td>\n",
       "      <td>0.472</td>\n",
       "      <td>0.028</td>\n",
       "      <td>1.886</td>\n",
       "      <td>0.068</td>\n",
       "      <td>1.75</td>\n",
       "      <td>2.0713</td>\n",
       "      <td>0.036</td>\n",
       "      <td>5</td>\n",
       "      <td>2004</td>\n",
       "    </tr>\n",
       "    <tr>\n",
       "      <th>3</th>\n",
       "      <td>12067</td>\n",
       "      <td>2004-05-09</td>\n",
       "      <td>2004-05-15</td>\n",
       "      <td>CENTRO OESTE</td>\n",
       "      <td>MATO GROSSO DO SUL</td>\n",
       "      <td>GASOLINA COMUM</td>\n",
       "      <td>166</td>\n",
       "      <td>R$/l</td>\n",
       "      <td>2.120</td>\n",
       "      <td>0.075</td>\n",
       "      <td>1.97</td>\n",
       "      <td>2.440</td>\n",
       "      <td>0.325</td>\n",
       "      <td>0.035</td>\n",
       "      <td>1.795</td>\n",
       "      <td>0.033</td>\n",
       "      <td>1.70701</td>\n",
       "      <td>1.9703</td>\n",
       "      <td>0.018</td>\n",
       "      <td>5</td>\n",
       "      <td>2004</td>\n",
       "    </tr>\n",
       "    <tr>\n",
       "      <th>4</th>\n",
       "      <td>12068</td>\n",
       "      <td>2004-05-09</td>\n",
       "      <td>2004-05-15</td>\n",
       "      <td>NORDESTE</td>\n",
       "      <td>ALAGOAS</td>\n",
       "      <td>GASOLINA COMUM</td>\n",
       "      <td>106</td>\n",
       "      <td>R$/l</td>\n",
       "      <td>2.090</td>\n",
       "      <td>0.034</td>\n",
       "      <td>2.00</td>\n",
       "      <td>2.159</td>\n",
       "      <td>0.35</td>\n",
       "      <td>0.016</td>\n",
       "      <td>1.74</td>\n",
       "      <td>0.042</td>\n",
       "      <td>1.6789</td>\n",
       "      <td>1.918</td>\n",
       "      <td>0.024</td>\n",
       "      <td>5</td>\n",
       "      <td>2004</td>\n",
       "    </tr>\n",
       "  </tbody>\n",
       "</table>\n",
       "</div>"
      ],
      "text/plain": [
       "   Unnamed:_0 Analysis_Date Last_Day_of_Analyses_of_Week   Macroregion  \\\n",
       "0       12064    2004-05-09                   2004-05-15  CENTRO OESTE   \n",
       "1       12065    2004-05-09                   2004-05-15  CENTRO OESTE   \n",
       "2       12066    2004-05-09                   2004-05-15  CENTRO OESTE   \n",
       "3       12067    2004-05-09                   2004-05-15  CENTRO OESTE   \n",
       "4       12068    2004-05-09                   2004-05-15      NORDESTE   \n",
       "\n",
       "                State         Product  No_of_Gas_Stations_Analyzed  \\\n",
       "0    DISTRITO FEDERAL  GASOLINA COMUM                          128   \n",
       "1               GOIAS  GASOLINA COMUM                          395   \n",
       "2         MATO GROSSO  GASOLINA COMUM                          194   \n",
       "3  MATO GROSSO DO SUL  GASOLINA COMUM                          166   \n",
       "4             ALAGOAS  GASOLINA COMUM                          106   \n",
       "\n",
       "  Measurement_Unit  Mean_Price  Std_Dev  Min_Price  Max_Price  \\\n",
       "0             R$/l       2.029    0.007       1.99      2.070   \n",
       "1             R$/l       2.025    0.062       1.85      2.220   \n",
       "2             R$/l       2.358    0.066       2.00      2.540   \n",
       "3             R$/l       2.120    0.075       1.97      2.440   \n",
       "4             R$/l       2.090    0.034       2.00      2.159   \n",
       "\n",
       "  Mean_Price_Margin  Coefficient_of_variation Mean_Dist_Price  \\\n",
       "0             0.318                     0.003           1.711   \n",
       "1             0.296                     0.031           1.729   \n",
       "2             0.472                     0.028           1.886   \n",
       "3             0.325                     0.035           1.795   \n",
       "4              0.35                     0.016            1.74   \n",
       "\n",
       "  Distribution_Std_Dev Distribution_Min_Price Distribution_Max_Price  \\\n",
       "0                 0.02                  1.651                 1.7427   \n",
       "1                0.036                 1.6643                  1.915   \n",
       "2                0.068                   1.75                 2.0713   \n",
       "3                0.033                1.70701                 1.9703   \n",
       "4                0.042                 1.6789                  1.918   \n",
       "\n",
       "  Distribution_Coefficient_of_Variation  Month  Year  \n",
       "0                                 0.012      5  2004  \n",
       "1                                 0.021      5  2004  \n",
       "2                                 0.036      5  2004  \n",
       "3                                 0.018      5  2004  \n",
       "4                                 0.024      5  2004  "
      ]
     },
     "execution_count": 29,
     "metadata": {},
     "output_type": "execute_result"
    }
   ],
   "source": [
    "data.head()"
   ]
  },
  {
   "cell_type": "code",
   "execution_count": 30,
   "metadata": {},
   "outputs": [
    {
     "data": {
      "text/plain": [
       "Index(['Unnamed:_0', 'Analysis_Date', 'Last_Day_of_Analyses_of_Week',\n",
       "       'Macroregion', 'State', 'Product', 'No_of_Gas_Stations_Analyzed',\n",
       "       'Measurement_Unit', 'Mean_Price', 'Std_Dev', 'Min_Price', 'Max_Price',\n",
       "       'Mean_Price_Margin', 'Coefficient_of_variation', 'Mean_Dist_Price',\n",
       "       'Distribution_Std_Dev', 'Distribution_Min_Price',\n",
       "       'Distribution_Max_Price', 'Distribution_Coefficient_of_Variation',\n",
       "       'Month', 'Year'],\n",
       "      dtype='object')"
      ]
     },
     "execution_count": 30,
     "metadata": {},
     "output_type": "execute_result"
    }
   ],
   "source": [
    "data.columns"
   ]
  },
  {
   "cell_type": "markdown",
   "metadata": {},
   "source": [
    "# Train and Validation Split (Simple Holdout)"
   ]
  },
  {
   "cell_type": "code",
   "execution_count": 31,
   "metadata": {},
   "outputs": [
    {
     "data": {
      "text/plain": [
       "((9233, 21), (11961, 21))"
      ]
     },
     "execution_count": 31,
     "metadata": {},
     "output_type": "execute_result"
    }
   ],
   "source": [
    "data_train = data[data['Last_Day_of_Analyses_of_Week'] < '2011-01-01']\n",
    "data_valid = data[data['Last_Day_of_Analyses_of_Week'] >= '2011-01-01']\n",
    "\n",
    "data_train.shape, data_valid.shape"
   ]
  },
  {
   "cell_type": "markdown",
   "metadata": {},
   "source": [
    "# New DataFrame for Train and Validation (Index: original Data)"
   ]
  },
  {
   "cell_type": "code",
   "execution_count": 32,
   "metadata": {},
   "outputs": [],
   "source": [
    "df_train = pd.DataFrame(index=data_train.index)\n",
    "df_valid  = pd.DataFrame(index=data_valid.index)"
   ]
  },
  {
   "cell_type": "markdown",
   "metadata": {},
   "source": [
    "# Target"
   ]
  },
  {
   "cell_type": "markdown",
   "metadata": {},
   "source": [
    "## First Difference of Average Resale Price"
   ]
  },
  {
   "cell_type": "code",
   "execution_count": 33,
   "metadata": {},
   "outputs": [],
   "source": [
    "df_train['diff_Mean_Price'] = data_train.groupby(['State'])['Mean_Price'].apply(lambda row: row.diff().shift(-1))\n",
    "df_valid['diff_Mean_Price'] = data_valid.groupby(['State'])['Mean_Price'].apply(lambda row: row.diff().shift(-1))"
   ]
  },
  {
   "cell_type": "markdown",
   "metadata": {},
   "source": [
    "# Features"
   ]
  },
  {
   "cell_type": "markdown",
   "metadata": {},
   "source": [
    "## Current Mean Price"
   ]
  },
  {
   "cell_type": "code",
   "execution_count": 34,
   "metadata": {},
   "outputs": [],
   "source": [
    "df_train['Current_Mean_Price'] = data_train['Mean_Price']\n",
    "df_valid['Current_Mean_Price'] = data_valid['Mean_Price']"
   ]
  },
  {
   "cell_type": "markdown",
   "metadata": {},
   "source": [
    "## Seasonality"
   ]
  },
  {
   "cell_type": "code",
   "execution_count": 35,
   "metadata": {},
   "outputs": [],
   "source": [
    "df_train['month'] = data_train['Last_Day_of_Analyses_of_Week'].dt.month\n",
    "df_train['day'] = data_train['Last_Day_of_Analyses_of_Week'].dt.day\n",
    "df_train['weekday'] = data_train['Last_Day_of_Analyses_of_Week'].dt.weekday\n",
    "df_train['dayofyear'] = data_train['Last_Day_of_Analyses_of_Week'].dt.dayofyear\n",
    "\n",
    "df_valid['month'] = data_valid['Last_Day_of_Analyses_of_Week'].dt.month\n",
    "df_valid['day'] = data_valid['Last_Day_of_Analyses_of_Week'].dt.day\n",
    "df_valid['weekday'] = data_valid['Last_Day_of_Analyses_of_Week'].dt.weekday\n",
    "df_valid['dayofyear'] = data_valid['Last_Day_of_Analyses_of_Week'].dt.dayofyear"
   ]
  },
  {
   "cell_type": "markdown",
   "metadata": {},
   "source": [
    "## Movel Average"
   ]
  },
  {
   "cell_type": "code",
   "execution_count": 36,
   "metadata": {},
   "outputs": [
    {
     "data": {
      "text/plain": [
       "0        NaN\n",
       "1        NaN\n",
       "2        NaN\n",
       "3    2.42475\n",
       "4    2.43700\n",
       "Name: Mean_Price, dtype: float64"
      ]
     },
     "execution_count": 36,
     "metadata": {},
     "output_type": "execute_result"
    }
   ],
   "source": [
    "roll = data_train.groupby(['State'])['Mean_Price'].rolling(4).mean()\n",
    "roll.reset_index(level=[0,1], drop=True).head()"
   ]
  },
  {
   "cell_type": "code",
   "execution_count": 37,
   "metadata": {},
   "outputs": [],
   "source": [
    "df_train['Movel_Average_Mean_Price_4_weeks'] = data_train.groupby(['State'])['Mean_Price'].rolling(4).mean().reset_index(level=0, drop=True)\n",
    "df_valid['Movel_Average_Mean_Price_4_weeks'] = data_valid.groupby(['State'])['Mean_Price'].rolling(4).mean().reset_index(level=0, drop=True)"
   ]
  },
  {
   "cell_type": "code",
   "execution_count": 38,
   "metadata": {},
   "outputs": [
    {
     "data": {
      "text/plain": [
       "diff_Mean_Price                     27\n",
       "Current_Mean_Price                   0\n",
       "month                                0\n",
       "day                                  0\n",
       "weekday                              0\n",
       "dayofyear                            0\n",
       "Movel_Average_Mean_Price_4_weeks    81\n",
       "dtype: int64"
      ]
     },
     "execution_count": 38,
     "metadata": {},
     "output_type": "execute_result"
    }
   ],
   "source": [
    "df_train.isnull().sum()"
   ]
  },
  {
   "cell_type": "code",
   "execution_count": 39,
   "metadata": {},
   "outputs": [],
   "source": [
    "df_train = df_train.dropna()\n",
    "df_valid = df_valid.dropna()"
   ]
  },
  {
   "cell_type": "markdown",
   "metadata": {},
   "source": [
    "## X, y Train and Validation Split"
   ]
  },
  {
   "cell_type": "code",
   "execution_count": 40,
   "metadata": {},
   "outputs": [],
   "source": [
    "Xtr, ytr = df_train.drop(['diff_Mean_Price'], axis=1), df_train['diff_Mean_Price']\n",
    "Xval, yval = df_valid.drop(['diff_Mean_Price'], axis=1), df_valid['diff_Mean_Price']"
   ]
  },
  {
   "cell_type": "markdown",
   "metadata": {},
   "source": [
    "# Model"
   ]
  },
  {
   "cell_type": "markdown",
   "metadata": {},
   "source": [
    "## RandomForestRegressor"
   ]
  },
  {
   "cell_type": "code",
   "execution_count": 41,
   "metadata": {},
   "outputs": [],
   "source": [
    "mdl = RandomForestRegressor(n_jobs=-1, random_state=0, n_estimators=500)\n",
    "mdl.fit(Xtr, ytr)\n",
    "p = mdl.predict(Xval)"
   ]
  },
  {
   "cell_type": "markdown",
   "metadata": {},
   "source": [
    "#### Metric"
   ]
  },
  {
   "cell_type": "code",
   "execution_count": 42,
   "metadata": {},
   "outputs": [
    {
     "data": {
      "text/plain": [
       "1.0911770508576566"
      ]
     },
     "execution_count": 42,
     "metadata": {},
     "output_type": "execute_result"
    }
   ],
   "source": [
    "p_final = Xval['Current_Mean_Price'] + p\n",
    "yval_final = Xval['Current_Mean_Price'] + yval\n",
    "\n",
    "np.sqrt(mean_squared_log_error(yval_final, p_final)) * 100"
   ]
  },
  {
   "cell_type": "markdown",
   "metadata": {},
   "source": [
    "## LGBMRegressor"
   ]
  },
  {
   "cell_type": "code",
   "execution_count": 43,
   "metadata": {},
   "outputs": [
    {
     "name": "stdout",
     "output_type": "stream",
     "text": [
      "[LightGBM] [Warning] min_data_in_leaf is set=250, min_child_samples=20 will be ignored. Current value: min_data_in_leaf=250\n"
     ]
    }
   ],
   "source": [
    "mdl = LGBMRegressor(num_leaves=2, min_data_in_leaf=250, n_jobs=-1, random_state=0, n_estimators=500)\n",
    "mdl.fit(Xtr, ytr)\n",
    "p = mdl.predict(Xval)"
   ]
  },
  {
   "cell_type": "markdown",
   "metadata": {},
   "source": [
    "#### Metric"
   ]
  },
  {
   "cell_type": "code",
   "execution_count": 44,
   "metadata": {},
   "outputs": [
    {
     "data": {
      "text/plain": [
       "0.992484189867061"
      ]
     },
     "execution_count": 44,
     "metadata": {},
     "output_type": "execute_result"
    }
   ],
   "source": [
    "p_final = Xval['Current_Mean_Price'] + p\n",
    "yval_final = Xval['Current_Mean_Price'] + yval\n",
    "\n",
    "np.sqrt(mean_squared_log_error(yval_final, p_final)) * 100"
   ]
  },
  {
   "cell_type": "markdown",
   "metadata": {},
   "source": [
    "## LinearRegression"
   ]
  },
  {
   "cell_type": "code",
   "execution_count": 45,
   "metadata": {},
   "outputs": [],
   "source": [
    "mdl = LinearRegression()\n",
    "mdl.fit(Xtr, ytr)\n",
    "p = mdl.predict(Xval)"
   ]
  },
  {
   "cell_type": "markdown",
   "metadata": {},
   "source": [
    "#### Metric"
   ]
  },
  {
   "cell_type": "code",
   "execution_count": 46,
   "metadata": {},
   "outputs": [
    {
     "data": {
      "text/plain": [
       "1.1032292901762215"
      ]
     },
     "execution_count": 46,
     "metadata": {},
     "output_type": "execute_result"
    }
   ],
   "source": [
    "p_final = Xval['Current_Mean_Price'] + p\n",
    "yval_final = Xval['Current_Mean_Price'] + yval\n",
    "\n",
    "np.sqrt(mean_squared_log_error(yval_final, p_final)) * 100"
   ]
  },
  {
   "cell_type": "markdown",
   "metadata": {},
   "source": [
    "## Lasso"
   ]
  },
  {
   "cell_type": "code",
   "execution_count": 47,
   "metadata": {},
   "outputs": [],
   "source": [
    "mdl = Lasso()\n",
    "mdl.fit(Xtr, ytr)\n",
    "p = mdl.predict(Xval)"
   ]
  },
  {
   "cell_type": "markdown",
   "metadata": {},
   "source": [
    "#### Metric"
   ]
  },
  {
   "cell_type": "code",
   "execution_count": 48,
   "metadata": {},
   "outputs": [
    {
     "data": {
      "text/plain": [
       "0.9857612576590822"
      ]
     },
     "execution_count": 48,
     "metadata": {},
     "output_type": "execute_result"
    }
   ],
   "source": [
    "p_final = Xval['Current_Mean_Price'] + p\n",
    "yval_final = Xval['Current_Mean_Price'] + yval\n",
    "\n",
    "np.sqrt(mean_squared_log_error(yval_final, p_final)) * 100"
   ]
  },
  {
   "cell_type": "markdown",
   "metadata": {},
   "source": [
    "## Ridge"
   ]
  },
  {
   "cell_type": "code",
   "execution_count": 49,
   "metadata": {},
   "outputs": [],
   "source": [
    "mdl = Ridge()\n",
    "mdl.fit(Xtr, ytr)\n",
    "p = mdl.predict(Xval)"
   ]
  },
  {
   "cell_type": "markdown",
   "metadata": {},
   "source": [
    "#### Metric"
   ]
  },
  {
   "cell_type": "code",
   "execution_count": 50,
   "metadata": {},
   "outputs": [
    {
     "data": {
      "text/plain": [
       "1.0995291008925445"
      ]
     },
     "execution_count": 50,
     "metadata": {},
     "output_type": "execute_result"
    }
   ],
   "source": [
    "p_final = Xval['Current_Mean_Price'] + p\n",
    "yval_final = Xval['Current_Mean_Price'] + yval\n",
    "\n",
    "np.sqrt(mean_squared_log_error(yval_final, p_final)) * 100"
   ]
  },
  {
   "cell_type": "markdown",
   "metadata": {},
   "source": [
    "## BayesianRidge"
   ]
  },
  {
   "cell_type": "code",
   "execution_count": 51,
   "metadata": {},
   "outputs": [],
   "source": [
    "mdl = BayesianRidge()\n",
    "mdl.fit(Xtr, ytr)\n",
    "p = mdl.predict(Xval)"
   ]
  },
  {
   "cell_type": "markdown",
   "metadata": {},
   "source": [
    "#### Metric"
   ]
  },
  {
   "cell_type": "code",
   "execution_count": 52,
   "metadata": {},
   "outputs": [
    {
     "data": {
      "text/plain": [
       "1.1023114612438818"
      ]
     },
     "execution_count": 52,
     "metadata": {},
     "output_type": "execute_result"
    }
   ],
   "source": [
    "p_final = Xval['Current_Mean_Price'] + p\n",
    "yval_final = Xval['Current_Mean_Price'] + yval\n",
    "\n",
    "np.sqrt(mean_squared_log_error(yval_final, p_final)) * 100"
   ]
  }
 ],
 "metadata": {
  "kernelspec": {
   "display_name": "Python 3",
   "language": "python",
   "name": "python3"
  },
  "language_info": {
   "codemirror_mode": {
    "name": "ipython",
    "version": 3
   },
   "file_extension": ".py",
   "mimetype": "text/x-python",
   "name": "python",
   "nbconvert_exporter": "python",
   "pygments_lexer": "ipython3",
   "version": "3.8.3"
  }
 },
 "nbformat": 4,
 "nbformat_minor": 4
}
